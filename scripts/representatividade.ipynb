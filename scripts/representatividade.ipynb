{
 "cells": [
  {
   "cell_type": "markdown",
   "id": "5e09d307-d356-46b0-abfe-a857fa581e05",
   "metadata": {
    "jp-MarkdownHeadingCollapsed": true
   },
   "source": [
    "# 1. Importações"
   ]
  },
  {
   "cell_type": "code",
   "execution_count": 1,
   "id": "98b1ab1b-e332-4499-826e-cd19db74843b",
   "metadata": {},
   "outputs": [],
   "source": [
    "# ========================== Importações ========================================================================================\n",
    "import pandas as pd\n",
    "import numpy as np\n",
    "import requests\n",
    "import time\n",
    "import os\n",
    "from datetime import datetime\n",
    "from unidecode import unidecode  # Remove acentos"
   ]
  },
  {
   "cell_type": "markdown",
   "id": "de5c5b57-b4a1-440d-9a37-c7e975315da8",
   "metadata": {
    "jp-MarkdownHeadingCollapsed": true
   },
   "source": [
    "# 2. Funções auxiliares"
   ]
  },
  {
   "cell_type": "code",
   "execution_count": 2,
   "id": "e8b19af7-2ffc-4f1b-93de-d532a434815f",
   "metadata": {},
   "outputs": [],
   "source": [
    "# ========================== Funções Auxiliares =================================================================================\n",
    "def fazer_requisicao_basica(url):\n",
    "    \"\"\"Faz a requisição à API e retorna os dados em JSON\"\"\"\n",
    "    try:\n",
    "        resposta = requests.get(url)\n",
    "        resposta.raise_for_status()  # Levanta um erro para status 4xx e 5xx\n",
    "        return resposta.json().get('dados', [])\n",
    "    except requests.exceptions.RequestException as e:\n",
    "        print(f\"Erro ao acessar {url}: {e}\")\n",
    "        return []\n",
    "# ===============================================================================================================================\n",
    "def obter_deputadas():\n",
    "    \"\"\"Obtém a lista de deputadas na Câmara\"\"\"\n",
    "    start_time = time.time()  # Início da contagem do tempo\n",
    "    url = 'https://dadosabertos.camara.leg.br/api/v2/deputados?dataInicio=2020-01-01&dataFim=2024-12-31&ordem=ASC&ordenarPor=nome'\n",
    "    dados = fazer_requisicao_basica(url)\n",
    "    end_time = time.time()  # Fim da contagem do tempo\n",
    "    print(f\"Tempo total de execução: {end_time - start_time:.2f} segundos\")\n",
    "    return pd.DataFrame(dados) if dados else pd.DataFrame()\n",
    "# ===============================================================================================================================\n",
    "def obter_detalhes_deputadas(df_deputadas):\n",
    "    \"\"\"Obtém detalhes individuais das deputadas e retorna um DataFrame\"\"\"\n",
    "    start_time = time.time()\n",
    "    detalhes = []\n",
    "\n",
    "    for id_dep in df_deputadas['id']:\n",
    "        url = f\"https://dadosabertos.camara.leg.br/api/v2/deputados/{id_dep}\"\n",
    "        data = fazer_requisicao_basica(url)  # Função para obter os dados da API\n",
    "\n",
    "        if not data:\n",
    "            print(f\"[ERRO] Nenhum dado retornado para id {id_dep}\")\n",
    "            continue\n",
    "\n",
    "        # Converter os dados principais da deputada para DataFrame\n",
    "        df_dados_deputada = pd.json_normalize(data)\n",
    "\n",
    "        detalhes.append(df_dados_deputada)\n",
    "\n",
    "    # Consolidar todos os detalhes em um único DataFrame\n",
    "    df_resultado = pd.concat(detalhes, ignore_index=True) if detalhes else pd.DataFrame()\n",
    "\n",
    "    elapsed_time = time.time() - start_time\n",
    "    print(f\"Tempo total de execução: {elapsed_time:.2f} segundos\")\n",
    "\n",
    "    return df_resultado\n",
    "# ===============================================================================================================================\n",
    "def obter_partidos(df_deputadas_completo):\n",
    "    \"\"\"Obtém detalhes dos partidos a partir da sigla e retorna um DataFrame\"\"\"\n",
    "    start_time = time.time()  # Início da contagem do tempo\n",
    "    url_base = \"https://dadosabertos.camara.leg.br/api/v2/partidos?sigla={}&ordem=ASC&ordenarPor=sigla\"\n",
    "    siglas = df_deputadas_completo[\"siglaPartido\"].dropna().unique()  # Pega siglas únicas, ignorando NaN\n",
    "    dados_partidos = []\n",
    "\n",
    "    for sigla in siglas:\n",
    "        sigla_corrigida = unidecode(sigla).upper()  # Remove acentos e coloca em maiúsculas\n",
    "        url = url_base.format(sigla_corrigida)  \n",
    "        response = requests.get(url)\n",
    "        \n",
    "        if response.status_code == 200:\n",
    "            data = response.json()\n",
    "            if \"dados\" in data and len(data[\"dados\"]) > 0:\n",
    "                df_partido = pd.json_normalize(data[\"dados\"])\n",
    "                dados_partidos.append(df_partido)\n",
    "\n",
    "    # Junta todos os dados coletados em um único DataFrame\n",
    "    df_partidos = pd.concat(dados_partidos, ignore_index=True) if dados_partidos else pd.DataFrame()\n",
    "\n",
    "    end_time = time.time()  # Fim da contagem do tempo\n",
    "    print(f\"Tempo total de execução: {end_time - start_time:.2f} segundos\")\n",
    "\n",
    "    return df_partidos\n",
    "# ===============================================================================================================================\n",
    "def obter_detalhes_partidos(df_partidos):\n",
    "    \"\"\"\n",
    "    Obtém os detalhes de cada partido utilizando o ID da lista de partidos.\n",
    "\n",
    "    Parâmetros:\n",
    "        df_partidos (pd.DataFrame): DataFrame contendo a lista de partidos, incluindo a coluna 'id'.\n",
    "\n",
    "    Retorna:\n",
    "        pd.DataFrame: DataFrame com os detalhes dos partidos, incluindo campos expandidos do 'status'.\n",
    "    \"\"\"\n",
    "    start_time = time.time()  # Início da contagem do tempo\n",
    "    detalhes_partidos = []  # Lista para armazenar os detalhes\n",
    "\n",
    "    for partido_id in df_partidos[\"id\"]:\n",
    "        url = f\"https://dadosabertos.camara.leg.br/api/v2/partidos/{partido_id}\"\n",
    "        dados = fazer_requisicao_basica(url)\n",
    "\n",
    "        if dados:\n",
    "            # Converte os dados principais do partido para um DataFrame\n",
    "            df_partido = pd.json_normalize(dados)\n",
    "\n",
    "            # Expande os campos dentro de \"status\", se existir\n",
    "            if \"status\" in dados:\n",
    "                df_status = pd.json_normalize(dados[\"status\"])\n",
    "                df_detalhado = pd.concat([df_partido, df_status], axis=1)  # Junta os DataFrames\n",
    "            else:\n",
    "                df_detalhado = df_partido  # Caso não haja status, mantém apenas os dados básicos\n",
    "\n",
    "            detalhes_partidos.append(df_detalhado)\n",
    "\n",
    "    end_time = time.time()  # Fim da contagem do tempo\n",
    "    print(f\"Tempo total de execução: {end_time - start_time:.2f} segundos\")\n",
    "\n",
    "    # Concatena todos os DataFrames na lista em um único DataFrame\n",
    "    return pd.concat(detalhes_partidos, ignore_index=True) if detalhes_partidos else pd.DataFrame()\n",
    "# ===============================================================================================================================\n",
    "def determinar_geracao(ano_nascimento):\n",
    "    if ano_nascimento >= 1997:\n",
    "        return \"Geração Z (1997-2010)\"\n",
    "    elif 1981 <= ano_nascimento <= 1996:\n",
    "        return \"Millennials - Geração Y (1981-1996)\"\n",
    "    elif 1965 <= ano_nascimento <= 1980:\n",
    "        return \"Geração X (1965-1980)\"\n",
    "    elif 1946 <= ano_nascimento <= 1964:\n",
    "        return \"Baby Boomers (1946-1964)\"\n",
    "    else:\n",
    "        return \"Geração Silenciosa (até 1945)\"\n",
    "# ===============================================================================================================================\n",
    "def obter_lideres_legislaturas():\n",
    "    \"\"\"Obtém os líderes das legislaturas 56 e 57 e retorna um DataFrame\"\"\"\n",
    "    start_time = time.time()\n",
    "    legislaturas = [56, 57]\n",
    "    lideres = []\n",
    "\n",
    "    for legislatura in legislaturas:\n",
    "        url = f\"https://dadosabertos.camara.leg.br/api/v2/legislaturas/{legislatura}/lideres\"\n",
    "        dados = fazer_requisicao_basica(url)\n",
    "\n",
    "        if not dados:\n",
    "            print(f\"[ERRO] Nenhum dado retornado para legislatura {legislatura}\")\n",
    "            continue\n",
    "\n",
    "        df_dados_lideres = pd.json_normalize(dados)\n",
    "        df_dados_lideres['legislatura'] = legislatura  # Adiciona a legislatura para referência\n",
    "\n",
    "        lideres.append(df_dados_lideres)\n",
    "\n",
    "    elapsed_time = time.time() - start_time\n",
    "    print(f\"Tempo total de execução: {elapsed_time:.2f} segundos\")\n",
    "\n",
    "    return pd.concat(lideres, ignore_index=True) if lideres else pd.DataFrame()\n",
    "# ===============================================================================================================================\n",
    "def obter_sexo_por_id(lista_ids):\n",
    "    \"\"\"Consulta a API da Câmara para obter o sexo de parlamentares por ID\"\"\"\n",
    "    dados = []\n",
    "\n",
    "    for id_ in lista_ids:\n",
    "        url = f\"https://dadosabertos.camara.leg.br/api/v2/deputados/{id_}\"\n",
    "        response = requests.get(url)\n",
    "\n",
    "        if response.status_code == 200:\n",
    "            info = response.json()\n",
    "            sexo = info['dados'].get('sexo', 'Não informado')\n",
    "            dados.append({'id': id_, 'sexo': sexo})\n",
    "        else:\n",
    "            print(f\"[ERRO] Não foi possível acessar dados para o ID {id_}\")\n",
    "            dados.append({'id': id_, 'sexo': 'Erro'})\n",
    "\n",
    "    return pd.DataFrame(dados)"
   ]
  },
  {
   "cell_type": "markdown",
   "id": "90aeb70f-d8f0-4472-9b8f-f8db7d72d6b5",
   "metadata": {
    "jp-MarkdownHeadingCollapsed": true
   },
   "source": [
    "# 3. Extração de dados"
   ]
  },
  {
   "cell_type": "code",
   "execution_count": 3,
   "id": "413ea6f2-97dc-46e1-9de2-48ce1e75ffab",
   "metadata": {},
   "outputs": [
    {
     "name": "stdout",
     "output_type": "stream",
     "text": [
      "Baixando dados das deputadas...\n",
      "Tempo total de execução: 9.85 segundos\n",
      "Baixando detalhes das deputadas...\n",
      "Tempo total de execução: 146.05 segundos\n",
      "Baixando dados dos partidos...\n",
      "Tempo total de execução: 118.22 segundos\n",
      "Baixando detalhes dos partidos...\n",
      "Tempo total de execução: 6.15 segundos\n",
      "Baixando dados dos líderes por legislatura...\n",
      "Tempo total de execução: 0.41 segundos\n"
     ]
    }
   ],
   "source": [
    "# ========================== Tabela Deputadas =================================================================================\n",
    "print(\"Baixando dados das deputadas...\")\n",
    "df_deputadas = obter_deputadas()\n",
    "\n",
    "if not df_deputadas.empty:\n",
    "    print(\"Baixando detalhes das deputadas...\")\n",
    "    df_deputadas_detalhes = obter_detalhes_deputadas(df_deputadas)\n",
    "else:\n",
    "    df_deputadas_detalhes = pd.DataFrame()\n",
    "\n",
    "# Chamando a função e fazendo a junção das tabelas deputadas\n",
    "df_deputadas_completo = df_deputadas.merge(df_deputadas_detalhes, on=\"id\", how=\"left\")\n",
    "\n",
    "# ========================== Tabela Partidos ===================================================================================\n",
    "print(\"Baixando dados dos partidos...\")\n",
    "df_partidos = obter_partidos(df_deputadas_completo)\n",
    "\n",
    "if not df_partidos.empty:\n",
    "    print(\"Baixando detalhes dos partidos...\")\n",
    "    df_detalhes_partidos = obter_detalhes_partidos(df_partidos)\n",
    "else:\n",
    "    df_detalhes_partidos = pd.DataFrame()\n",
    "\n",
    "# Chamando a função e fazendo a junção das tabelas partidos\n",
    "df_partidos_completo = df_partidos.merge(df_detalhes_partidos, on=\"id\", how=\"left\")\n",
    "\n",
    "# ========================== Tabela Líderes ====================================================================================\n",
    "print(\"Baixando dados dos líderes por legislatura...\")\n",
    "df_lideres_leg = obter_lideres_legislaturas()"
   ]
  },
  {
   "cell_type": "markdown",
   "id": "3848c3dc-f7c1-420c-a92a-c01d3ee2c8ee",
   "metadata": {},
   "source": [
    "# 4. Consolidação e Limpeza dos Dados"
   ]
  },
  {
   "cell_type": "markdown",
   "id": "a72e00cc-b769-485a-8d01-028ba6c27fd7",
   "metadata": {
    "jp-MarkdownHeadingCollapsed": true
   },
   "source": [
    "## 4.1. Tabela Deputadas"
   ]
  },
  {
   "cell_type": "code",
   "execution_count": 4,
   "id": "a029f16c-e4f9-41ab-8389-c90f7179d08b",
   "metadata": {},
   "outputs": [
    {
     "data": {
      "text/plain": [
       "id                                   0\n",
       "uri_x                                0\n",
       "nome                                 0\n",
       "siglaPartido                         0\n",
       "uriPartido                           0\n",
       "siglaUf                              0\n",
       "idLegislatura                        0\n",
       "urlFoto                              0\n",
       "email                             1610\n",
       "uri_y                                0\n",
       "nomeCivil                            0\n",
       "cpf                                  0\n",
       "sexo                                 0\n",
       "urlWebsite                        2262\n",
       "redeSocial                           0\n",
       "dataNascimento                       0\n",
       "dataFalecimento                   2274\n",
       "ufNascimento                         1\n",
       "municipioNascimento                  0\n",
       "escolaridade                        33\n",
       "ultimoStatus.id                      0\n",
       "ultimoStatus.uri                     0\n",
       "ultimoStatus.nome                    0\n",
       "ultimoStatus.siglaPartido            0\n",
       "ultimoStatus.uriPartido           2278\n",
       "ultimoStatus.siglaUf                 0\n",
       "ultimoStatus.idLegislatura           0\n",
       "ultimoStatus.urlFoto                 0\n",
       "ultimoStatus.email                2278\n",
       "ultimoStatus.data                    4\n",
       "ultimoStatus.nomeEleitoral           0\n",
       "ultimoStatus.gabinete.nome         793\n",
       "ultimoStatus.gabinete.predio       793\n",
       "ultimoStatus.gabinete.sala         793\n",
       "ultimoStatus.gabinete.andar       1088\n",
       "ultimoStatus.gabinete.telefone     793\n",
       "ultimoStatus.gabinete.email        805\n",
       "ultimoStatus.situacao                0\n",
       "ultimoStatus.condicaoEleitoral       0\n",
       "ultimoStatus.descricaoStatus      1867\n",
       "dtype: int64"
      ]
     },
     "execution_count": 4,
     "metadata": {},
     "output_type": "execute_result"
    }
   ],
   "source": [
    "# Verificando colunas com dados nulos\n",
    "\n",
    "df_deputadas_completo.isnull().sum()"
   ]
  },
  {
   "cell_type": "code",
   "execution_count": 5,
   "id": "7ea12eff-a2e0-415b-befc-3915d337f900",
   "metadata": {},
   "outputs": [],
   "source": [
    "# Localizando dados nulos na coluna ufNascimento e preenchendo com os valores da coluna siglaUf\n",
    "\n",
    "df_deputadas_completo.loc[(df_deputadas_completo['ufNascimento'].isna()), 'ufNascimento'] = df_deputadas_completo['siglaUf']"
   ]
  },
  {
   "cell_type": "code",
   "execution_count": 6,
   "id": "3e7e1ec9-88a2-4fea-93e6-fcfa3bb78908",
   "metadata": {},
   "outputs": [],
   "source": [
    "# Localizando dados nulos na coluna escolaridade e preenchendo com o valor 'não informado'\n",
    "\n",
    "df_deputadas_completo.loc[(df_deputadas_completo['escolaridade'].isna()), 'escolaridade'] = \"Não informado\""
   ]
  },
  {
   "cell_type": "code",
   "execution_count": 7,
   "id": "801b192e-9d54-4bde-9b49-63d5080bc3b3",
   "metadata": {},
   "outputs": [],
   "source": [
    "# Localizando dados nulos na coluna ultimoStatus.data e preenchendo com a data de hoje\n",
    "\n",
    "df_deputadas_completo.loc[(df_deputadas_completo['ultimoStatus.data'].isna()), 'ultimoStatus.data'] = datetime.now()"
   ]
  },
  {
   "cell_type": "code",
   "execution_count": 8,
   "id": "af26b402-c3ac-41f5-8812-dfda798fc65d",
   "metadata": {},
   "outputs": [
    {
     "data": {
      "text/plain": [
       "1294"
      ]
     },
     "execution_count": 8,
     "metadata": {},
     "output_type": "execute_result"
    }
   ],
   "source": [
    "# Verificando a quantidade de registros duplicados em que o id, idLegislatura e siglaPartido são iguais\n",
    "\n",
    "df_deputadas_completo.duplicated(subset=['id', 'idLegislatura', 'siglaPartido']).sum()"
   ]
  },
  {
   "cell_type": "code",
   "execution_count": 9,
   "id": "424e5e2e-6b66-4b2b-a36d-6c90eed1001b",
   "metadata": {},
   "outputs": [],
   "source": [
    "# Excluindo os registros duplicados, com base nos critérios acima, e mantendo apenas o último registro\n",
    "\n",
    "df_deputadas_completo = df_deputadas_completo.drop_duplicates(subset=[\"id\", \"idLegislatura\", 'siglaPartido'], keep='last')"
   ]
  },
  {
   "cell_type": "code",
   "execution_count": 10,
   "id": "5df183d7-da86-4451-b8dd-40401fbfb2bb",
   "metadata": {},
   "outputs": [
    {
     "data": {
      "text/plain": [
       "0"
      ]
     },
     "execution_count": 10,
     "metadata": {},
     "output_type": "execute_result"
    }
   ],
   "source": [
    "# Conferindo se os registros duplicados foram apagados\n",
    "\n",
    "df_deputadas_completo.duplicated(subset=['id', 'idLegislatura', 'siglaPartido']).sum()"
   ]
  },
  {
   "cell_type": "code",
   "execution_count": 11,
   "id": "0c211110-6f6e-4b07-933f-a5b86fc951de",
   "metadata": {},
   "outputs": [],
   "source": [
    "# Criando as colunas com as datas de início e fim da legislatura \n",
    "\n",
    "df_deputadas_completo[\"inicioLegislatura\"] = np.where(\n",
    "    df_deputadas_completo[\"idLegislatura\"] == 57, \"2023-02-01\",\n",
    "    np.where(df_deputadas_completo[\"idLegislatura\"] == 56, \"2019-02-01\", np.nan)\n",
    ")\n",
    "\n",
    "df_deputadas_completo[\"fimLegislatura\"] = np.where(\n",
    "    df_deputadas_completo[\"idLegislatura\"] == 57, \"2027-01-31\",\n",
    "    np.where(df_deputadas_completo[\"idLegislatura\"] == 56, \"2023-01-31\", np.nan)\n",
    ")"
   ]
  },
  {
   "cell_type": "code",
   "execution_count": 12,
   "id": "77a8c918-61a9-4dda-859c-cd47bb52061c",
   "metadata": {},
   "outputs": [],
   "source": [
    "# Formatando campos com datas para o formato brasileiro\n",
    "\n",
    "df_deputadas_completo['dataNascimento'] = pd.to_datetime(df_deputadas_completo['dataNascimento']).dt.strftime('%d/%m/%Y')\n",
    "df_deputadas_completo['inicioLegislatura'] = pd.to_datetime(df_deputadas_completo['inicioLegislatura']).dt.strftime('%d/%m/%Y')\n",
    "df_deputadas_completo['fimLegislatura'] = pd.to_datetime(df_deputadas_completo['fimLegislatura']).dt.strftime('%d/%m/%Y')"
   ]
  },
  {
   "cell_type": "code",
   "execution_count": 13,
   "id": "4260ea95-2646-46fc-ae16-a5284f6c81e6",
   "metadata": {},
   "outputs": [],
   "source": [
    "# Criando o campo falecida (bool)\n",
    "\n",
    "df_deputadas_completo['falecida'] = df_deputadas_completo['dataFalecimento'].notna()"
   ]
  },
  {
   "cell_type": "code",
   "execution_count": 14,
   "id": "3c40e99c-ff30-454f-89d8-5ca5f6739547",
   "metadata": {},
   "outputs": [],
   "source": [
    "# Criando o campo Ano de Nascimento\n",
    "\n",
    "df_deputadas_completo.loc[:, 'ano_nascimento'] = pd.to_datetime(df_deputadas_completo['dataNascimento'], dayfirst=True).dt.year"
   ]
  },
  {
   "cell_type": "code",
   "execution_count": 15,
   "id": "e1e35dea-2c37-4234-9f1a-da210f233b1e",
   "metadata": {},
   "outputs": [],
   "source": [
    "# Criando o campo Geração a partir da chamada da função Determinar Geração\n",
    "\n",
    "df_deputadas_completo.loc[:, 'geração'] = df_deputadas_completo['ano_nascimento'].apply(determinar_geracao)"
   ]
  },
  {
   "cell_type": "code",
   "execution_count": 16,
   "id": "7fb4a5f8-c52b-475c-a81f-a03d6faa681c",
   "metadata": {},
   "outputs": [],
   "source": [
    "# Criando o campo Idade com base na data de nascimento x data de hoje\n",
    "\n",
    "df_deputadas_completo.loc[:, 'idade'] = datetime.now().year - df_deputadas_completo['ano_nascimento']"
   ]
  },
  {
   "cell_type": "code",
   "execution_count": 17,
   "id": "a1fa6691-e514-445b-9cf4-f5da851635c1",
   "metadata": {},
   "outputs": [],
   "source": [
    "# Excluindo colunas desnecessárias\n",
    "\n",
    "df_deputadas_completo.drop(columns=['uri_x', 'uriPartido', 'urlFoto', 'email', 'uri_y', 'urlWebsite', 'redeSocial', \n",
    "                                    'ultimoStatus.uriPartido', 'ultimoStatus.email', 'ultimoStatus.gabinete.nome', \n",
    "                                    'ultimoStatus.gabinete.predio', 'ultimoStatus.gabinete.sala', 'ultimoStatus.gabinete.andar',\n",
    "                                    'ultimoStatus.gabinete.telefone', 'ultimoStatus.gabinete.email', 'ultimoStatus.descricaoStatus', \n",
    "                                    'dataFalecimento'], inplace=True)"
   ]
  },
  {
   "cell_type": "code",
   "execution_count": 18,
   "id": "6c0e5fb4-20bf-4dc6-a7e0-d7c25cf61cc2",
   "metadata": {},
   "outputs": [
    {
     "data": {
      "text/plain": [
       "id                                0\n",
       "nome                              0\n",
       "siglaPartido                      0\n",
       "siglaUf                           0\n",
       "idLegislatura                     0\n",
       "nomeCivil                         0\n",
       "cpf                               0\n",
       "sexo                              0\n",
       "dataNascimento                    0\n",
       "ufNascimento                      0\n",
       "municipioNascimento               0\n",
       "escolaridade                      0\n",
       "ultimoStatus.id                   0\n",
       "ultimoStatus.uri                  0\n",
       "ultimoStatus.nome                 0\n",
       "ultimoStatus.siglaPartido         0\n",
       "ultimoStatus.siglaUf              0\n",
       "ultimoStatus.idLegislatura        0\n",
       "ultimoStatus.urlFoto              0\n",
       "ultimoStatus.data                 0\n",
       "ultimoStatus.nomeEleitoral        0\n",
       "ultimoStatus.situacao             0\n",
       "ultimoStatus.condicaoEleitoral    0\n",
       "inicioLegislatura                 0\n",
       "fimLegislatura                    0\n",
       "falecida                          0\n",
       "ano_nascimento                    0\n",
       "geração                           0\n",
       "idade                             0\n",
       "dtype: int64"
      ]
     },
     "execution_count": 18,
     "metadata": {},
     "output_type": "execute_result"
    }
   ],
   "source": [
    "# Conferência final\n",
    "\n",
    "df_deputadas_completo.isnull().sum()"
   ]
  },
  {
   "cell_type": "markdown",
   "id": "cfb7084b-3749-4b88-9e4b-9fec46f494a4",
   "metadata": {
    "jp-MarkdownHeadingCollapsed": true
   },
   "source": [
    "## 4.2. Tabela Partidos "
   ]
  },
  {
   "cell_type": "code",
   "execution_count": 19,
   "id": "e9834832-c558-42cc-8975-f08a25b24aaf",
   "metadata": {},
   "outputs": [
    {
     "data": {
      "text/plain": [
       "id                             0\n",
       "sigla_x                        0\n",
       "nome_x                         0\n",
       "uri_x                          0\n",
       "sigla_y                        0\n",
       "nome_y                         0\n",
       "uri_y                          0\n",
       "numeroEleitoral               31\n",
       "urlLogo                        0\n",
       "urlWebSite                    31\n",
       "urlFacebook                   31\n",
       "status.data                    1\n",
       "status.idLegislatura           0\n",
       "status.situacao                1\n",
       "status.totalPosse              0\n",
       "status.totalMembros            0\n",
       "status.uriMembros              0\n",
       "status.lider.uri               0\n",
       "status.lider.nome              1\n",
       "status.lider.siglaPartido      1\n",
       "status.lider.uriPartido        0\n",
       "status.lider.uf                1\n",
       "status.lider.idLegislatura     0\n",
       "status.lider.urlFoto           0\n",
       "data                           1\n",
       "idLegislatura                  0\n",
       "situacao                       1\n",
       "totalPosse                     0\n",
       "totalMembros                   0\n",
       "uriMembros                     0\n",
       "lider.uri                      0\n",
       "lider.nome                     1\n",
       "lider.siglaPartido             1\n",
       "lider.uriPartido               0\n",
       "lider.uf                       1\n",
       "lider.idLegislatura            0\n",
       "lider.urlFoto                  0\n",
       "dtype: int64"
      ]
     },
     "execution_count": 19,
     "metadata": {},
     "output_type": "execute_result"
    }
   ],
   "source": [
    "# Verifica os campos da tabela em nulo\n",
    "\n",
    "df_partidos_completo.isnull().sum()"
   ]
  },
  {
   "cell_type": "code",
   "execution_count": 20,
   "id": "03992a9b-e3fd-4db8-8da5-86e5dea4e4ed",
   "metadata": {},
   "outputs": [],
   "source": [
    "# Renomeando colunas\n",
    "\n",
    "df_partidos_completo = df_partidos_completo.rename(columns={'id': 'idPartido', 'sigla_x': 'siglaPartido', 'nome_x': 'nomePartido'})"
   ]
  },
  {
   "cell_type": "code",
   "execution_count": 21,
   "id": "bd777072-5c16-4e71-8522-fa0344c466dc",
   "metadata": {},
   "outputs": [],
   "source": [
    "# Excluindo colunas desnecessárias\n",
    "\n",
    "df_partidos_completo.drop(columns=['uri_x', 'uri_y', 'urlLogo', 'urlWebSite', 'urlFacebook', 'status.lider.uri', \n",
    "                                   'status.lider.uriPartido', 'status.lider.urlFoto', 'uriMembros', 'lider.uri', \n",
    "                                   'lider.uriPartido', 'lider.urlFoto', 'uriMembros', 'lider.uri', 'lider.uriPartido', \n",
    "                                   'lider.urlFoto', 'sigla_y', 'nome_y', 'numeroEleitoral'], inplace=True)"
   ]
  },
  {
   "cell_type": "code",
   "execution_count": 22,
   "id": "54169e49-6ff2-418d-ab5a-65322e68ca67",
   "metadata": {},
   "outputs": [],
   "source": [
    "# Formatando os campos de data para o formato brasileiro\n",
    "\n",
    "df_partidos_completo['status.data'] = pd.to_datetime(df_partidos_completo['status.data']).dt.strftime(\"%d/%m/%Y\")\n",
    "df_partidos_completo['data'] = pd.to_datetime(df_partidos_completo['data']).dt.strftime(\"%d/%m/%Y\")"
   ]
  },
  {
   "cell_type": "code",
   "execution_count": 23,
   "id": "c6877130-ada1-493f-a5e8-cb425e27436a",
   "metadata": {},
   "outputs": [
    {
     "data": {
      "text/html": [
       "<div>\n",
       "<style scoped>\n",
       "    .dataframe tbody tr th:only-of-type {\n",
       "        vertical-align: middle;\n",
       "    }\n",
       "\n",
       "    .dataframe tbody tr th {\n",
       "        vertical-align: top;\n",
       "    }\n",
       "\n",
       "    .dataframe thead th {\n",
       "        text-align: right;\n",
       "    }\n",
       "</style>\n",
       "<table border=\"1\" class=\"dataframe\">\n",
       "  <thead>\n",
       "    <tr style=\"text-align: right;\">\n",
       "      <th></th>\n",
       "      <th>idPartido</th>\n",
       "      <th>siglaPartido</th>\n",
       "      <th>nomePartido</th>\n",
       "      <th>status.data</th>\n",
       "      <th>status.idLegislatura</th>\n",
       "      <th>status.situacao</th>\n",
       "      <th>status.totalPosse</th>\n",
       "      <th>status.totalMembros</th>\n",
       "      <th>status.uriMembros</th>\n",
       "      <th>status.lider.nome</th>\n",
       "      <th>...</th>\n",
       "      <th>status.lider.idLegislatura</th>\n",
       "      <th>data</th>\n",
       "      <th>idLegislatura</th>\n",
       "      <th>situacao</th>\n",
       "      <th>totalPosse</th>\n",
       "      <th>totalMembros</th>\n",
       "      <th>lider.nome</th>\n",
       "      <th>lider.siglaPartido</th>\n",
       "      <th>lider.uf</th>\n",
       "      <th>lider.idLegislatura</th>\n",
       "    </tr>\n",
       "  </thead>\n",
       "  <tbody>\n",
       "    <tr>\n",
       "      <th>25</th>\n",
       "      <td>36852</td>\n",
       "      <td>S.PART.</td>\n",
       "      <td>Sem Partido</td>\n",
       "      <td>NaN</td>\n",
       "      <td>57</td>\n",
       "      <td>None</td>\n",
       "      <td>0</td>\n",
       "      <td>0</td>\n",
       "      <td></td>\n",
       "      <td>None</td>\n",
       "      <td>...</td>\n",
       "      <td>57</td>\n",
       "      <td>NaN</td>\n",
       "      <td>57</td>\n",
       "      <td>None</td>\n",
       "      <td>0</td>\n",
       "      <td>0</td>\n",
       "      <td>None</td>\n",
       "      <td>None</td>\n",
       "      <td>None</td>\n",
       "      <td>57</td>\n",
       "    </tr>\n",
       "  </tbody>\n",
       "</table>\n",
       "<p>1 rows × 22 columns</p>\n",
       "</div>"
      ],
      "text/plain": [
       "    idPartido siglaPartido  nomePartido status.data status.idLegislatura  \\\n",
       "25      36852      S.PART.  Sem Partido         NaN                   57   \n",
       "\n",
       "   status.situacao status.totalPosse status.totalMembros status.uriMembros  \\\n",
       "25            None                 0                   0                     \n",
       "\n",
       "   status.lider.nome  ... status.lider.idLegislatura data  idLegislatura  \\\n",
       "25              None  ...                         57  NaN             57   \n",
       "\n",
       "   situacao totalPosse totalMembros lider.nome lider.siglaPartido lider.uf  \\\n",
       "25     None          0            0       None               None     None   \n",
       "\n",
       "   lider.idLegislatura  \n",
       "25                  57  \n",
       "\n",
       "[1 rows x 22 columns]"
      ]
     },
     "execution_count": 23,
     "metadata": {},
     "output_type": "execute_result"
    }
   ],
   "source": [
    "# Verifica se pelo menos uma célula em cada linha (axis=1) tem o valor True, indicando que há um valor nulo nesta linha\n",
    "\n",
    "df_partidos_completo[df_partidos_completo.isnull().any(axis=1)]"
   ]
  },
  {
   "cell_type": "code",
   "execution_count": 24,
   "id": "b52b104d-8ade-47fd-82f7-a409e3d92228",
   "metadata": {},
   "outputs": [
    {
     "data": {
      "text/plain": [
       "status.data                  1\n",
       "status.situacao              1\n",
       "status.lider.nome            1\n",
       "status.lider.siglaPartido    1\n",
       "status.lider.uf              1\n",
       "data                         1\n",
       "situacao                     1\n",
       "lider.nome                   1\n",
       "lider.siglaPartido           1\n",
       "lider.uf                     1\n",
       "dtype: int64"
      ]
     },
     "execution_count": 24,
     "metadata": {},
     "output_type": "execute_result"
    }
   ],
   "source": [
    "# Verificando quais colunas possuem campos nulos e filtrando para mostrar apenas as colunas que possuem esses valores nulos\n",
    "\n",
    "df_partidos_completo.isnull().sum()[df_partidos_completo.isnull().sum() > 0]"
   ]
  },
  {
   "cell_type": "code",
   "execution_count": 25,
   "id": "244c72a6-a1a1-4f00-a0a8-e06adca82522",
   "metadata": {},
   "outputs": [],
   "source": [
    "# Preenchendo os campos nulos com o valor \"Não se aplica\" ou com a sigla do partido\n",
    "\n",
    "df_partidos_completo.fillna({\n",
    "    'status.data': 'Não se aplica',\n",
    "    'status.situacao': 'Não se aplica',\n",
    "    'status.lider.nome': 'Não se aplica',\n",
    "    'status.lider.siglaPartido': df_partidos_completo['siglaPartido'],\n",
    "    'status.lider.uf': 'Não se aplica',\n",
    "    'data': 'Não se aplica',\n",
    "    'situacao': 'Não se aplica',\n",
    "    'lider.nome': 'Não se aplica',\n",
    "    'lider.siglaPartido': df_partidos_completo['siglaPartido'],\n",
    "    'lider.uf': 'Não se aplica' \n",
    "}, inplace=True)"
   ]
  },
  {
   "cell_type": "code",
   "execution_count": 26,
   "id": "481fd037-694e-4e13-b7c3-2833210505d3",
   "metadata": {},
   "outputs": [],
   "source": [
    "# Criando o campo Está Ativo apenas com os partidos ativos, mas sem filtrar\n",
    "\n",
    "df_partidos_completo['esta_ativo'] = df_partidos_completo['status.situacao'] == 'Ativo'"
   ]
  },
  {
   "cell_type": "code",
   "execution_count": 27,
   "id": "afca5f03-3801-46fe-b11e-2ba2613948e0",
   "metadata": {},
   "outputs": [
    {
     "data": {
      "text/plain": [
       "idPartido                     0\n",
       "siglaPartido                  0\n",
       "nomePartido                   0\n",
       "status.data                   0\n",
       "status.idLegislatura          0\n",
       "status.situacao               0\n",
       "status.totalPosse             0\n",
       "status.totalMembros           0\n",
       "status.uriMembros             0\n",
       "status.lider.nome             0\n",
       "status.lider.siglaPartido     0\n",
       "status.lider.uf               0\n",
       "status.lider.idLegislatura    0\n",
       "data                          0\n",
       "idLegislatura                 0\n",
       "situacao                      0\n",
       "totalPosse                    0\n",
       "totalMembros                  0\n",
       "lider.nome                    0\n",
       "lider.siglaPartido            0\n",
       "lider.uf                      0\n",
       "lider.idLegislatura           0\n",
       "esta_ativo                    0\n",
       "dtype: int64"
      ]
     },
     "execution_count": 27,
     "metadata": {},
     "output_type": "execute_result"
    }
   ],
   "source": [
    "# Conferência final\n",
    "\n",
    "df_partidos_completo.isnull().sum()"
   ]
  },
  {
   "cell_type": "markdown",
   "id": "2b9d2b63-562f-4114-ac71-da5ae331bb7e",
   "metadata": {
    "jp-MarkdownHeadingCollapsed": true
   },
   "source": [
    "## 4.3. Tabela Líderes"
   ]
  },
  {
   "cell_type": "code",
   "execution_count": 28,
   "id": "e8081a37-8676-4a7e-970a-225710b3a97d",
   "metadata": {},
   "outputs": [
    {
     "data": {
      "text/plain": [
       "titulo                       0\n",
       "dataInicio                   0\n",
       "dataFim                      8\n",
       "parlamentar.id               0\n",
       "parlamentar.uri              0\n",
       "parlamentar.nome             0\n",
       "parlamentar.siglaPartido     0\n",
       "parlamentar.uriPartido       0\n",
       "parlamentar.siglaUf          0\n",
       "parlamentar.idLegislatura    0\n",
       "parlamentar.email            8\n",
       "parlamentar.urlFoto          0\n",
       "bancada.tipo                 0\n",
       "bancada.nome                 0\n",
       "bancada.uri                  1\n",
       "legislatura                  0\n",
       "dtype: int64"
      ]
     },
     "execution_count": 28,
     "metadata": {},
     "output_type": "execute_result"
    }
   ],
   "source": [
    "# Verifica os campos da tabela em nulo\n",
    "\n",
    "df_lideres_leg.isnull().sum()"
   ]
  },
  {
   "cell_type": "code",
   "execution_count": 29,
   "id": "4d32705f-d107-4f38-b67d-e7e58c8914d5",
   "metadata": {},
   "outputs": [],
   "source": [
    "# Filtra os campos dataFim que estão nulos e substitui pelas datas finais das legislaturas\n",
    "\n",
    "filtro_nulo = df_lideres_leg[\"dataFim\"].isnull()\n",
    "df_lideres_leg.loc[filtro_nulo, \"dataFim\"] = df_lideres_leg.loc[filtro_nulo, \"legislatura\"].map({\n",
    "    57: \"2027-01-31\",\n",
    "    56: \"2023-01-31\"\n",
    "})"
   ]
  },
  {
   "cell_type": "code",
   "execution_count": 30,
   "id": "f34ae381-b116-4ba4-a22d-be3b6ca936e1",
   "metadata": {},
   "outputs": [],
   "source": [
    "# Transforma os campos de data para o padrão brasileiro\n",
    "\n",
    "df_lideres_leg[\"dataInicio\"] = pd.to_datetime(df_lideres_leg[\"dataInicio\"]).dt.strftime(\"%d/%m/%Y\")\n",
    "df_lideres_leg[\"dataFim\"] = pd.to_datetime(df_lideres_leg[\"dataFim\"]).dt.strftime(\"%d/%m/%Y\")"
   ]
  },
  {
   "cell_type": "code",
   "execution_count": 31,
   "id": "837fcb61-ad25-4fb7-9c3d-2455fe966772",
   "metadata": {},
   "outputs": [],
   "source": [
    "# Obtém os IDs únicos, removendo valores nulos\n",
    "ids_unicos = df_lideres_leg['parlamentar.id'].dropna().unique()\n",
    "\n",
    "# Obtém o DataFrame com os sexos baseados nos IDs únicos\n",
    "df_sexo_por_id = obter_sexo_por_id(ids_unicos)\n",
    "\n",
    "# Realiza o merge\n",
    "df_lideres_leg = df_lideres_leg.merge(df_sexo_por_id, left_on='parlamentar.id', right_on='id', how='left')"
   ]
  },
  {
   "cell_type": "code",
   "execution_count": 32,
   "id": "dd9e5a18-1c69-4a51-ab7a-2f96b7c39ea7",
   "metadata": {},
   "outputs": [
    {
     "name": "stdout",
     "output_type": "stream",
     "text": [
      "Quantidade de True para 'parlamentar.id' e 'id': 30\n",
      "Quantidade de False para 'parlamentar.id' e 'id': 0\n",
      "Quantidade de True para 'parlamentar.idLegislatura' e 'legislatura': 30\n",
      "Quantidade de False para 'parlamentar.idLegislatura' e 'legislatura': 0\n"
     ]
    }
   ],
   "source": [
    "# Contagem de True/False para a comparação 'parlamentar.id' com 'id'\n",
    "\n",
    "count_id_true = (df_lideres_leg['parlamentar.id'] == df_lideres_leg['id']).sum()\n",
    "count_id_false = len(df_lideres_leg) - count_id_true  # Total de registros - True -> False\n",
    "print(f\"Quantidade de True para 'parlamentar.id' e 'id': {count_id_true}\")\n",
    "print(f\"Quantidade de False para 'parlamentar.id' e 'id': {count_id_false}\")\n",
    "\n",
    "# Contagem de True/False para a comparação 'parlamentar.idLegislatura' com 'legislatura'\n",
    "\n",
    "count_legislatura_true = (df_lideres_leg['parlamentar.idLegislatura'] == df_lideres_leg['legislatura']).sum()\n",
    "count_legislatura_false = len(df_lideres_leg) - count_legislatura_true\n",
    "print(f\"Quantidade de True para 'parlamentar.idLegislatura' e 'legislatura': {count_legislatura_true}\")\n",
    "print(f\"Quantidade de False para 'parlamentar.idLegislatura' e 'legislatura': {count_legislatura_false}\")"
   ]
  },
  {
   "cell_type": "code",
   "execution_count": 33,
   "id": "c980b330-5ff9-48bc-9064-398d2072db00",
   "metadata": {},
   "outputs": [],
   "source": [
    "# Exclui colunas desnecessárias\n",
    "\n",
    "df_lideres_leg.drop(columns=['parlamentar.email', 'bancada.uri', 'parlamentar.idLegislatura', 'id'], inplace=True)"
   ]
  },
  {
   "cell_type": "code",
   "execution_count": 34,
   "id": "c272d68f-dbb1-4832-80bb-cffe6c00a1dc",
   "metadata": {},
   "outputs": [
    {
     "data": {
      "text/plain": [
       "titulo                      0\n",
       "dataInicio                  0\n",
       "dataFim                     0\n",
       "parlamentar.id              0\n",
       "parlamentar.uri             0\n",
       "parlamentar.nome            0\n",
       "parlamentar.siglaPartido    0\n",
       "parlamentar.uriPartido      0\n",
       "parlamentar.siglaUf         0\n",
       "parlamentar.urlFoto         0\n",
       "bancada.tipo                0\n",
       "bancada.nome                0\n",
       "legislatura                 0\n",
       "sexo                        0\n",
       "dtype: int64"
      ]
     },
     "execution_count": 34,
     "metadata": {},
     "output_type": "execute_result"
    }
   ],
   "source": [
    "# Conferência final\n",
    "\n",
    "df_lideres_leg.isnull().sum()"
   ]
  },
  {
   "cell_type": "markdown",
   "id": "ba645e3a-df6c-41bf-98e6-01c70f7d5520",
   "metadata": {
    "jp-MarkdownHeadingCollapsed": true
   },
   "source": [
    "## 4.4. Tabela Proposições"
   ]
  },
  {
   "cell_type": "code",
   "execution_count": 35,
   "id": "7e44f229-6578-4ba5-ac54-28c97c1154a5",
   "metadata": {
    "scrolled": true
   },
   "outputs": [],
   "source": [
    "# ====================== Função para Requisição com Tentativas ======================\n",
    "def fazer_requisicao_com_tentativas(url, tentativas=3, delay=5):\n",
    "    session = requests.Session()\n",
    "    for tentativa in range(tentativas):\n",
    "        try:\n",
    "            response = session.get(url)\n",
    "            response.raise_for_status()\n",
    "            return response.json()\n",
    "        except requests.RequestException as e:\n",
    "            print(f\"Tentativa {tentativa + 1} falhou. Erro: {e}\")\n",
    "            if tentativa < tentativas - 1:\n",
    "                time.sleep(delay)\n",
    "            else:\n",
    "                print(f\"Erro permanente na URL: {url}\")\n",
    "                return None\n",
    "\n",
    "# ====================== Função para Coletar Proposições ======================\n",
    "def coletar_proposicoes(df_deputadas_completo, pasta_dados='dados_proposicoes'):\n",
    "    # Cria a pasta, se não existir\n",
    "    os.makedirs(pasta_dados, exist_ok=True)\n",
    "    inicio_tempo = time.time()\n",
    "    \n",
    "    # Itera sobre cada ano do período\n",
    "    for ano in range(2019, 2025):  # De 2019 a 2024\n",
    "        arquivo_ano = f\"{pasta_dados}/proposicoes_{ano}.csv\"\n",
    "        \n",
    "        # Verifica se o arquivo do ano já existe\n",
    "        if os.path.exists(arquivo_ano):\n",
    "            print(f\"[INFO] Dados para {ano} já existem. Pulando...\")\n",
    "            continue\n",
    "        \n",
    "        todos_dados = []  # Lista para armazenar todas as proposições do ano\n",
    "        \n",
    "        # Itera sobre cada deputada\n",
    "        for id_deputada in df_deputadas_completo['id'].unique():\n",
    "            pagina_atual = 1\n",
    "            url_base = f\"https://dadosabertos.camara.leg.br/api/v2/proposicoes?idDeputadoAutor={id_deputada}&dataApresentacaoInicio={ano}-01-01&dataApresentacaoFim={ano}-12-31&ordem=ASC&ordenarPor=id&itens=100\"\n",
    "            url_proxima = url_base\n",
    "            \n",
    "            while url_proxima:\n",
    "                dados_pagina = fazer_requisicao_com_tentativas(url_proxima)\n",
    "                \n",
    "                if dados_pagina:\n",
    "                    # Adiciona os dados da página atual, incluindo o ID do deputado\n",
    "                    for dado in dados_pagina.get('dados', []):\n",
    "                        dado['idDeputadoAutor'] = id_deputada\n",
    "                        todos_dados.append(dado)\n",
    "                    \n",
    "                    # Verifica a URL da próxima página\n",
    "                    url_proxima = next((link['href'] for link in dados_pagina.get('links', []) if link['rel'] == 'next'), None)\n",
    "                    \n",
    "                    # Imprime progresso\n",
    "                    print(f\"Processando ID {id_deputada} - Ano {ano} - Página {pagina_atual}\")\n",
    "                    pagina_atual += 1\n",
    "                else:\n",
    "                    break  # Encerra o loop em caso de erro na requisição\n",
    "        \n",
    "        # Cria o DataFrame final do ano e salva em CSV\n",
    "        if todos_dados:\n",
    "            df_proposicoes_ano = pd.DataFrame(todos_dados)\n",
    "            df_proposicoes_ano.to_csv(arquivo_ano, index=False, encoding=\"utf-8\")\n",
    "            print(f\"[SUCESSO] Dados para {ano} salvos em {arquivo_ano}\")\n",
    "    \n",
    "    # Exibe tempo total de execução\n",
    "    tempo_total = time.time() - inicio_tempo\n",
    "    print(f\"Tempo total de execução: {tempo_total:.2f} segundos\")\n",
    "    print(\"[FINALIZADO] Todos os anos processados com sucesso.\")"
   ]
  },
  {
   "cell_type": "code",
   "execution_count": 36,
   "id": "5f609c48-de19-4384-a92b-36344d71fab3",
   "metadata": {},
   "outputs": [],
   "source": [
    "# Uso da Função Coletar proposições (executar apenas se necessário)\n",
    "# df_proposicoes = coletar_proposicoes(df_deputadas_completo)"
   ]
  },
  {
   "cell_type": "code",
   "execution_count": 37,
   "id": "25e26c8b-7972-41ba-a7d1-fcbd7e4b9f20",
   "metadata": {},
   "outputs": [],
   "source": [
    "# ====================== Carregamento dos Dados Coletados ======================\n",
    "def carregar_proposicoes(pasta_dados='../data/dados_proposicoes'):    # Caminho para a pasta com os CSVs\n",
    "    todos_anos = []                                           # Lista para armazenar os DataFrames\n",
    "    for arquivo in os.listdir(pasta_dados):                   # Itera sobre os arquivos na pasta\n",
    "        if arquivo.endswith('.csv'):\n",
    "            ano = arquivo.split('_')[-1].split('.')[0]        # Extrai o ano do nome do arquivo\n",
    "            df = pd.read_csv(os.path.join(pasta_dados, arquivo))\n",
    "            df['ano'] = ano                                   # Adiciona a coluna de ano para identificar a origem\n",
    "            todos_anos.append(df)\n",
    "    return pd.concat(todos_anos, ignore_index=True) if todos_anos else pd.DataFrame()  # Concatena todos os DataFrames em um único DataFrame"
   ]
  },
  {
   "cell_type": "code",
   "execution_count": 38,
   "id": "fb2a6fd6-fd46-49cc-b574-9e061d1cc99a",
   "metadata": {},
   "outputs": [],
   "source": [
    "# Uso da Função Carregar proposições (executar apenas se necessário)\n",
    "# df_proposicoes_completo = carregar_proposicoes()\n",
    "# print(f\"Total de proposições carregadas: {len(df_proposicoes_completo)}\")"
   ]
  },
  {
   "cell_type": "code",
   "execution_count": 39,
   "id": "52d9fd39-7324-43c6-bbec-71ade923d040",
   "metadata": {},
   "outputs": [],
   "source": [
    "# Arquivo baixado em 13/05/2025 e utilizado para análise\n",
    "df_proposicoes_completo = pd.read_csv('../data/proposicoes_com_sexo.csv', sep=';')"
   ]
  },
  {
   "cell_type": "code",
   "execution_count": 40,
   "id": "534f47f5-3b49-4081-a871-f1c5d200326b",
   "metadata": {
    "scrolled": true
   },
   "outputs": [],
   "source": [
    "# ====================== Extração dos Detalhes ======================\n",
    "def extrair_detalhes(df_proposicoes_completo):\n",
    "    detalhes = []\n",
    "    qtde_ids_unicos = 0              # Inicializa o contador\n",
    "\n",
    "    print(\"Início do processamento...\")\n",
    "    for id in df_proposicoes_completo['id'].unique():\n",
    "        try:\n",
    "            url = f'https://dadosabertos.camara.leg.br/api/v2/proposicoes/{id}'\n",
    "            data = fazer_requisicao_com_tentativas(url)\n",
    "\n",
    "            # Verifica se a resposta não está vazia\n",
    "            if data and \"dados\" in data:\n",
    "                df_dados = pd.json_normalize(data[\"dados\"])\n",
    "                detalhes.append(df_dados)\n",
    "            \n",
    "            qtde_ids_unicos += 1\n",
    "            print(f'Proposições processadas: {qtde_ids_unicos} / {len(df_proposicoes_completo[\"id\"].unique())}')\n",
    "        \n",
    "        except Exception as e:\n",
    "            print(f\"[ERRO] Falha ao processar a proposição {id}: {e}\")\n",
    "\n",
    "    df_proposicoes_detalhes = pd.concat(detalhes, ignore_index=True) if detalhes else pd.DataFrame()\n",
    "    print(\"Processamento finalizado!\")\n",
    "    print(df_proposicoes_detalhes.info())\n",
    "    return df_proposicoes_detalhes"
   ]
  },
  {
   "cell_type": "code",
   "execution_count": 41,
   "id": "3a6c2cd6-9fbd-4bf9-84c1-23f6b4e36c32",
   "metadata": {},
   "outputs": [],
   "source": [
    "# df_proposicoes_detalhes = extrair_detalhes(df_proposicoes_completo)"
   ]
  },
  {
   "cell_type": "code",
   "execution_count": 42,
   "id": "b4571d7e-d43d-43b6-b99e-2296363c73c8",
   "metadata": {},
   "outputs": [],
   "source": [
    "# df_proposicoes_detalhes.to_csv('proposicoes_detalhes.csv', index=False)"
   ]
  },
  {
   "cell_type": "code",
   "execution_count": 43,
   "id": "6f635d0f-4501-4b1c-8cad-392fb6307bd5",
   "metadata": {},
   "outputs": [],
   "source": [
    "# Arquivo baixado em 29/05/2025 e utilizado para análise\n",
    "df_proposicoes_detalhes = pd.read_csv('../data/proposicoes_detalhes.csv', sep=',')"
   ]
  },
  {
   "cell_type": "code",
   "execution_count": 44,
   "id": "0147d385-3915-40d2-be7d-7eccabaa4982",
   "metadata": {},
   "outputs": [
    {
     "data": {
      "text/plain": [
       "135068"
      ]
     },
     "execution_count": 44,
     "metadata": {},
     "output_type": "execute_result"
    }
   ],
   "source": [
    "df_proposicoes_detalhes['id'].count()"
   ]
  },
  {
   "cell_type": "code",
   "execution_count": 45,
   "id": "5e07b398-a518-4b26-89de-02d4dc5e60e1",
   "metadata": {
    "scrolled": true
   },
   "outputs": [],
   "source": [
    "# ====================== Extração dos Temas ======================\n",
    "def extrair_detalhes(df_proposicoes_completo):\n",
    "    detalhes = []\n",
    "    qtde_ids_unicos = 0              # Inicializa o contador\n",
    "\n",
    "    print(\"Início do processamento...\")\n",
    "    for id in df_proposicoes_completo['id'].unique():\n",
    "        try:\n",
    "            url = f'https://dadosabertos.camara.leg.br/api/v2/proposicoes/{id}/temas'\n",
    "            data = fazer_requisicao_com_tentativas(url)\n",
    "\n",
    "            # Verifica se a resposta não está vazia\n",
    "            if data and \"dados\" in data:\n",
    "                df_dados = pd.json_normalize(data[\"dados\"])\n",
    "                df_dados['idProposicao'] = id              # Adiciona o ID da proposição ao DataFrame\n",
    "                detalhes.append(df_dados)\n",
    "            \n",
    "            qtde_ids_unicos += 1\n",
    "            print(f'Proposições processadas: {qtde_ids_unicos} / {len(df_proposicoes_completo[\"id\"].unique())}')\n",
    "        \n",
    "        except Exception as e:\n",
    "            print(f\"[ERRO] Falha ao processar a proposição {id}: {e}\")\n",
    "\n",
    "    df_proposicoes_tema = pd.concat(detalhes, ignore_index=True) if detalhes else pd.DataFrame()\n",
    "    print(\"Processamento finalizado!\")\n",
    "    print(df_proposicoes_tema.info())\n",
    "    return df_proposicoes_tema"
   ]
  },
  {
   "cell_type": "code",
   "execution_count": 46,
   "id": "70c45ca1-d790-463b-8dc5-bbb0cd60953a",
   "metadata": {},
   "outputs": [],
   "source": [
    "# Extrair temas das proposições (executar apenas se necessário)\n",
    "# df_proposicoes_tema = extrair_detalhes(df_proposicoes_completo)"
   ]
  },
  {
   "cell_type": "code",
   "execution_count": 47,
   "id": "94374571-3550-4940-bdb8-7fefe628b823",
   "metadata": {},
   "outputs": [],
   "source": [
    "# Arquivo baixado em 13/05/2025 e utilizado para análise\n",
    "df_proposicoes_tema = pd.read_csv('../data/proposicoes_temas.csv', sep=',')"
   ]
  },
  {
   "cell_type": "code",
   "execution_count": 48,
   "id": "1311d2aa-da03-4e2a-935f-1529bb7b12c7",
   "metadata": {},
   "outputs": [
    {
     "data": {
      "text/plain": [
       "idProposicao       0\n",
       "uri                0\n",
       "siglaTipo          0\n",
       "codTipo            0\n",
       "numero             0\n",
       "ano                0\n",
       "idDeputadoAutor    0\n",
       "sexo               0\n",
       "dtype: int64"
      ]
     },
     "execution_count": 48,
     "metadata": {},
     "output_type": "execute_result"
    }
   ],
   "source": [
    "df_proposicoes_completo.isnull().sum()"
   ]
  },
  {
   "cell_type": "code",
   "execution_count": 49,
   "id": "9c470edb-a566-46dc-bddd-36a341c79380",
   "metadata": {},
   "outputs": [
    {
     "name": "stdout",
     "output_type": "stream",
     "text": [
      "<class 'pandas.core.frame.DataFrame'>\n",
      "RangeIndex: 318208 entries, 0 to 318207\n",
      "Data columns (total 8 columns):\n",
      " #   Column           Non-Null Count   Dtype \n",
      "---  ------           --------------   ----- \n",
      " 0   idProposicao     318208 non-null  int64 \n",
      " 1   uri              318208 non-null  object\n",
      " 2   siglaTipo        318208 non-null  object\n",
      " 3   codTipo          318208 non-null  int64 \n",
      " 4   numero           318208 non-null  int64 \n",
      " 5   ano              318208 non-null  int64 \n",
      " 6   idDeputadoAutor  318208 non-null  int64 \n",
      " 7   sexo             318208 non-null  object\n",
      "dtypes: int64(5), object(3)\n",
      "memory usage: 19.4+ MB\n"
     ]
    }
   ],
   "source": [
    "df_proposicoes_completo.info()"
   ]
  },
  {
   "cell_type": "code",
   "execution_count": 50,
   "id": "9e5df3cc-7301-4968-8fd0-6fb4a3181241",
   "metadata": {},
   "outputs": [],
   "source": [
    "df_proposicoes_completo.dropna(axis=0, how='any', inplace=True)"
   ]
  },
  {
   "cell_type": "code",
   "execution_count": 51,
   "id": "25a8a279-3b16-46e6-9541-9b91df66e59a",
   "metadata": {},
   "outputs": [],
   "source": [
    "df_proposicoes_completo['numero'] = df_proposicoes_completo['numero'].round().astype('int64')"
   ]
  },
  {
   "cell_type": "code",
   "execution_count": 52,
   "id": "18eaf14b-de83-4bc6-9d18-7a32b49434c7",
   "metadata": {},
   "outputs": [],
   "source": [
    "# df_proposicoes_completo.drop(columns=['ementa'], inplace=True)"
   ]
  },
  {
   "cell_type": "code",
   "execution_count": 53,
   "id": "1ca6df8d-c024-4de3-8d2c-418c14aeba38",
   "metadata": {},
   "outputs": [
    {
     "data": {
      "text/plain": [
       "idProposicao       0\n",
       "uri                0\n",
       "siglaTipo          0\n",
       "codTipo            0\n",
       "numero             0\n",
       "ano                0\n",
       "idDeputadoAutor    0\n",
       "sexo               0\n",
       "dtype: int64"
      ]
     },
     "execution_count": 53,
     "metadata": {},
     "output_type": "execute_result"
    }
   ],
   "source": [
    "df_proposicoes_completo.isnull().sum()"
   ]
  },
  {
   "cell_type": "code",
   "execution_count": 54,
   "id": "eb109645-2d82-4abe-854d-a1d27c248226",
   "metadata": {},
   "outputs": [],
   "source": [
    "# df_proposicoes_completo.to_csv('proposicoes.csv', sep=';', index=False)"
   ]
  },
  {
   "cell_type": "code",
   "execution_count": 55,
   "id": "3da2a4d4-a824-45ce-9c5f-060c19e7e5b1",
   "metadata": {},
   "outputs": [
    {
     "name": "stdout",
     "output_type": "stream",
     "text": [
      "   idProposicao                                                uri siglaTipo  \\\n",
      "0       2199501  https://dadosabertos.camara.leg.br/api/v2/prop...        PL   \n",
      "1       2199501  https://dadosabertos.camara.leg.br/api/v2/prop...        PL   \n",
      "2       2199624  https://dadosabertos.camara.leg.br/api/v2/prop...       EMC   \n",
      "3       2199624  https://dadosabertos.camara.leg.br/api/v2/prop...       EMC   \n",
      "4       2199625  https://dadosabertos.camara.leg.br/api/v2/prop...       EMC   \n",
      "\n",
      "   codTipo  numero   ano  idDeputadoAutor sexo_x      id sexo_y  \n",
      "0      139    2552  2019           204554      M  204554      M  \n",
      "1      139    2552  2019           204554      M  204554      M  \n",
      "2      130       1  2019           204554      M  204554      M  \n",
      "3      130       1  2019           204554      M  204554      M  \n",
      "4      130       2  2019           204554      M  204554      M  \n"
     ]
    }
   ],
   "source": [
    "# Fazendo o merge com base nos IDs\n",
    "df_proposicoes_com_sexo = df_proposicoes_completo.merge(\n",
    "    df_deputadas_completo[['id', 'sexo']],  # Filtra apenas as colunas necessárias\n",
    "    left_on='idDeputadoAutor', \n",
    "    right_on='id', \n",
    "    how='left'  # left join para manter todas as proposições\n",
    ")\n",
    "\n",
    "# Exibindo algumas linhas para verificar se funcionou\n",
    "print(df_proposicoes_com_sexo.head())"
   ]
  },
  {
   "cell_type": "code",
   "execution_count": 56,
   "id": "b46d7909-6beb-4e07-8993-7fb59ece892c",
   "metadata": {},
   "outputs": [],
   "source": [
    "# Removendo a coluna id duplicada\n",
    "df_proposicoes_com_sexo.drop(columns=['id', 'sexo_y'], inplace=True)\n",
    "df_proposicoes_com_sexo.rename(columns={\"sexo_x\": \"sexo\"}, inplace=True)"
   ]
  },
  {
   "cell_type": "code",
   "execution_count": 57,
   "id": "0ee01902-5149-4d6a-8993-6c1b8ed34ef2",
   "metadata": {},
   "outputs": [
    {
     "name": "stdout",
     "output_type": "stream",
     "text": [
      "Index(['idProposicao', 'uri', 'siglaTipo', 'codTipo', 'numero', 'ano',\n",
      "       'idDeputadoAutor', 'sexo'],\n",
      "      dtype='object')\n"
     ]
    }
   ],
   "source": [
    "print(df_proposicoes_com_sexo.columns)"
   ]
  },
  {
   "cell_type": "code",
   "execution_count": 58,
   "id": "502f39a5-fdb1-49c2-8151-636729cd3946",
   "metadata": {},
   "outputs": [
    {
     "data": {
      "text/plain": [
       "633307"
      ]
     },
     "execution_count": 58,
     "metadata": {},
     "output_type": "execute_result"
    }
   ],
   "source": [
    "df_proposicoes_com_sexo['idProposicao'].count()"
   ]
  },
  {
   "cell_type": "code",
   "execution_count": 59,
   "id": "26742c55-d5fa-412a-8cce-edd89ac8b7af",
   "metadata": {},
   "outputs": [
    {
     "name": "stdout",
     "output_type": "stream",
     "text": [
      "Registros antes do merge: 318208\n",
      "Registros após o merge: 633307\n"
     ]
    }
   ],
   "source": [
    "print(\"Registros antes do merge:\", len(df_proposicoes_completo))\n",
    "print(\"Registros após o merge:\", len(df_proposicoes_com_sexo))"
   ]
  },
  {
   "cell_type": "code",
   "execution_count": 60,
   "id": "b9c318cc-f302-4420-b499-8e32022d8682",
   "metadata": {},
   "outputs": [
    {
     "name": "stdout",
     "output_type": "stream",
     "text": [
      "0\n"
     ]
    }
   ],
   "source": [
    "print(df_proposicoes_com_sexo['sexo'].isnull().sum())"
   ]
  },
  {
   "cell_type": "code",
   "execution_count": 61,
   "id": "226677ba-261d-4cc9-9c89-69c8c8545568",
   "metadata": {},
   "outputs": [
    {
     "name": "stdout",
     "output_type": "stream",
     "text": [
      "Deputados não encontrados: []\n"
     ]
    }
   ],
   "source": [
    "deputados_nao_encontrados = df_proposicoes_com_sexo[df_proposicoes_com_sexo['sexo'].isnull()]['idDeputadoAutor'].unique()\n",
    "print(\"Deputados não encontrados:\", deputados_nao_encontrados)"
   ]
  },
  {
   "cell_type": "code",
   "execution_count": 62,
   "id": "b03af156-00f2-42c6-b2a0-53b1e7ce7eca",
   "metadata": {},
   "outputs": [
    {
     "name": "stdout",
     "output_type": "stream",
     "text": [
      "Deputados com IDs duplicados:\n",
      " Empty DataFrame\n",
      "Columns: [id, nome, siglaPartido, idLegislatura]\n",
      "Index: []\n",
      "Total de duplicatas: 0\n"
     ]
    }
   ],
   "source": [
    "# Verificando duplicatas na tabela de deputadas\n",
    "duplicatas_deputadas = df_deputadas_completo[df_deputadas_completo.duplicated(subset=['id', 'siglaPartido', 'idLegislatura'], keep=False)]\n",
    "print(\"Deputados com IDs duplicados:\\n\", duplicatas_deputadas[['id', 'nome', 'siglaPartido', 'idLegislatura']].sort_values(by='id'))\n",
    "print(\"Total de duplicatas:\", len(duplicatas_deputadas))"
   ]
  },
  {
   "cell_type": "code",
   "execution_count": 63,
   "id": "104ba04e-c6b5-4723-afc3-17e610137aaf",
   "metadata": {},
   "outputs": [
    {
     "name": "stdout",
     "output_type": "stream",
     "text": [
      "count     547.000000\n",
      "mean      581.733090\n",
      "std       588.553173\n",
      "min         1.000000\n",
      "25%       232.000000\n",
      "50%       435.000000\n",
      "75%       716.000000\n",
      "max      4680.000000\n",
      "Name: count, dtype: float64\n"
     ]
    }
   ],
   "source": [
    "# Contando quantas proposições cada deputado fez\n",
    "\n",
    "contagem_proposicoes = df_proposicoes_completo['idDeputadoAutor'].value_counts()\n",
    "print(contagem_proposicoes.describe())"
   ]
  },
  {
   "cell_type": "code",
   "execution_count": 64,
   "id": "3c59f611-9497-4a52-9786-050db8b4170b",
   "metadata": {},
   "outputs": [
    {
     "name": "stdout",
     "output_type": "stream",
     "text": [
      "Registros antes do merge: 318208\n",
      "Registros após o merge: 318208\n"
     ]
    }
   ],
   "source": [
    "# Excluindo os ids que foram duplicados após o merge\n",
    "\n",
    "df_proposicoes_com_sexo.drop_duplicates(keep='last', inplace=True)\n",
    "print(\"Registros antes do merge:\", len(df_proposicoes_completo))\n",
    "print(\"Registros após o merge:\", len(df_proposicoes_com_sexo))"
   ]
  },
  {
   "cell_type": "code",
   "execution_count": 65,
   "id": "2bbb77a1-0730-4ecb-9a47-966b570cfe49",
   "metadata": {},
   "outputs": [],
   "source": [
    "# df_proposicoes_com_sexo.to_csv('proposicoes_com_sexo.csv', sep=';', index=False)"
   ]
  },
  {
   "cell_type": "code",
   "execution_count": 66,
   "id": "fcd5256b-3607-4b5f-87e1-a381954f8cd4",
   "metadata": {},
   "outputs": [
    {
     "data": {
      "text/plain": [
       "codTema         0\n",
       "tema            0\n",
       "relevancia      0\n",
       "idProposicao    0\n",
       "dtype: int64"
      ]
     },
     "execution_count": 66,
     "metadata": {},
     "output_type": "execute_result"
    }
   ],
   "source": [
    "df_proposicoes_tema.isnull().sum()"
   ]
  },
  {
   "cell_type": "code",
   "execution_count": 67,
   "id": "18da2727-fd10-43ac-88c5-c0aa83a76448",
   "metadata": {},
   "outputs": [
    {
     "name": "stdout",
     "output_type": "stream",
     "text": [
      "<class 'pandas.core.frame.DataFrame'>\n",
      "RangeIndex: 63161 entries, 0 to 63160\n",
      "Data columns (total 4 columns):\n",
      " #   Column        Non-Null Count  Dtype  \n",
      "---  ------        --------------  -----  \n",
      " 0   codTema       63161 non-null  float64\n",
      " 1   tema          63161 non-null  object \n",
      " 2   relevancia    63161 non-null  float64\n",
      " 3   idProposicao  63161 non-null  int64  \n",
      "dtypes: float64(2), int64(1), object(1)\n",
      "memory usage: 1.9+ MB\n"
     ]
    }
   ],
   "source": [
    "df_proposicoes_tema.info()"
   ]
  },
  {
   "cell_type": "code",
   "execution_count": 68,
   "id": "8ad07a97-8ea9-413c-afba-8f6c23847a45",
   "metadata": {},
   "outputs": [],
   "source": [
    "df_proposicoes_tema['codTema'] = df_proposicoes_tema['codTema'].round().astype('int64')"
   ]
  },
  {
   "cell_type": "markdown",
   "id": "bdbcc8af-50a1-456d-8784-20b04b05a3b2",
   "metadata": {},
   "source": [
    "geral: https://dadosabertos.camara.leg.br/api/v2/proposicoes/2199501\n",
    "autores: https://dadosabertos.camara.leg.br/api/v2/proposicoes?idDeputadoAutor=204554&dataApresentacaoInicio=2019-01-01&dataApresentacaoFim=2024-12-31&ordem=ASC&ordenarPor=id&itens=50\n",
    "\n",
    "\n",
    "temas: https://dadosabertos.camara.leg.br/api/v2/proposicoes/2199501/temas\n",
    "tramitacoes: https://dadosabertos.camara.leg.br/api/v2/proposicoes/2199501/tramitacoes\n",
    "votacoes: https://dadosabertos.camara.leg.br/api/v2/proposicoes/2199501/votacoes?ordem=DESC&ordenarPor=dataHoraRegistro\n",
    "\n",
    "\n",
    "\n",
    "url_cod_situacao_proposicao = 'https://dadosabertos.camara.leg.br/api/v2/referencias/proposicoes/codSituacao'\n",
    "url_cod_tema_proposicao = 'https://dadosabertos.camara.leg.br/api/v2/referencias/proposicoes/codTema'\n",
    "url_sigla_tipo_proposicao = 'https://dadosabertos.camara.leg.br/api/v2/referencias/proposicoes/siglaTipo'\n",
    "url_cod_tramitacao_proposicao = 'https://dadosabertos.camara.leg.br/api/v2/referencias/proposicoes/codTipoTramitacao'\n",
    "url_cod_tipo_autor_proposicao = 'https://dadosabertos.camara.leg.br/api/v2/referencias/proposicoes/codTipoAutor'"
   ]
  },
  {
   "cell_type": "markdown",
   "id": "c297aa52-6632-4255-bf91-c72bb418a67e",
   "metadata": {
    "jp-MarkdownHeadingCollapsed": true
   },
   "source": [
    "# 5. Análise Exploratória"
   ]
  },
  {
   "cell_type": "code",
   "execution_count": 69,
   "id": "2cf34773-adc7-4ac7-a550-36f23e2b70e5",
   "metadata": {},
   "outputs": [
    {
     "data": {
      "text/plain": [
       "ano\n",
       "2019    346\n",
       "2020    340\n",
       "2021    345\n",
       "2022    347\n",
       "2023    365\n",
       "2024    369\n",
       "Name: idDeputadoAutor, dtype: int64"
      ]
     },
     "execution_count": 69,
     "metadata": {},
     "output_type": "execute_result"
    }
   ],
   "source": [
    "df_proposicoes_completo.groupby('ano')['idDeputadoAutor'].nunique()"
   ]
  },
  {
   "cell_type": "code",
   "execution_count": 70,
   "id": "8bcda914-9801-4e44-9984-bf1eb3e44182",
   "metadata": {},
   "outputs": [
    {
     "data": {
      "text/plain": [
       "ano\n",
       "2019    21100\n",
       "2020    14693\n",
       "2021    21273\n",
       "2022    13172\n",
       "2023    33987\n",
       "2024    30843\n",
       "Name: idProposicao, dtype: int64"
      ]
     },
     "execution_count": 70,
     "metadata": {},
     "output_type": "execute_result"
    }
   ],
   "source": [
    "df_proposicoes_completo.groupby('ano')['idProposicao'].nunique()"
   ]
  },
  {
   "cell_type": "code",
   "execution_count": 71,
   "id": "ac154ec3-3c3f-4b8c-9096-53a32bceaee4",
   "metadata": {},
   "outputs": [
    {
     "data": {
      "text/plain": [
       "135068"
      ]
     },
     "execution_count": 71,
     "metadata": {},
     "output_type": "execute_result"
    }
   ],
   "source": [
    "df_proposicoes_completo['idProposicao'].nunique()"
   ]
  },
  {
   "cell_type": "code",
   "execution_count": 72,
   "id": "57e25708-c3c6-4e2d-a4e6-92f3ce4ad609",
   "metadata": {},
   "outputs": [
    {
     "data": {
      "text/plain": [
       "63161"
      ]
     },
     "execution_count": 72,
     "metadata": {},
     "output_type": "execute_result"
    }
   ],
   "source": [
    "df_proposicoes_tema['idProposicao'].count()"
   ]
  },
  {
   "cell_type": "code",
   "execution_count": 73,
   "id": "3b956527-e9e9-4229-a440-50e4fb6f7a80",
   "metadata": {},
   "outputs": [
    {
     "data": {
      "text/plain": [
       "33856"
      ]
     },
     "execution_count": 73,
     "metadata": {},
     "output_type": "execute_result"
    }
   ],
   "source": [
    "df_proposicoes_tema['idProposicao'].nunique()"
   ]
  },
  {
   "cell_type": "code",
   "execution_count": 74,
   "id": "8245a7e9-0cbd-442a-a259-c2a7b9348ffe",
   "metadata": {},
   "outputs": [
    {
     "data": {
      "text/plain": [
       "tema\n",
       "Administração Pública                          6910\n",
       "Agricultura, Pecuária, Pesca e Extrativismo    1154\n",
       "Arte, Cultura e Religião                        896\n",
       "Cidades e Desenvolvimento Urbano               1382\n",
       "Ciência, Tecnologia e Inovação                  690\n",
       "Ciências Exatas e da Terra                        2\n",
       "Ciências Sociais e Humanas                        7\n",
       "Comunicações                                   1134\n",
       "Defesa e Segurança                             3439\n",
       "Direito Civil e Processual Civil               1203\n",
       "Direito Constitucional                          157\n",
       "Direito Penal e Processual Penal               2465\n",
       "Direito e Defesa do Consumidor                 1314\n",
       "Direito e Justiça                               433\n",
       "Direitos Humanos e Minorias                    6228\n",
       "Economia                                       2053\n",
       "Educação                                       3562\n",
       "Energia, Recursos Hídricos e Minerais          1658\n",
       "Esporte e Lazer                                 632\n",
       "Estrutura Fundiária                             416\n",
       "Finanças Públicas e Orçamento                  4892\n",
       "Homenagens e Datas Comemorativas               1215\n",
       "Indústria, Comércio e Serviços                 2035\n",
       "Meio Ambiente e Desenvolvimento Sustentável    2476\n",
       "Política, Partidos e Eleições                   565\n",
       "Previdência e Assistência Social               1573\n",
       "Processo Legislativo e Atuação Parlamentar      540\n",
       "Relações Internacionais e Comércio Exterior     816\n",
       "Saúde                                          7279\n",
       "Trabalho e Emprego                             3117\n",
       "Turismo                                         285\n",
       "Viação, Transporte e Mobilidade                2633\n",
       "Name: idProposicao, dtype: int64"
      ]
     },
     "execution_count": 74,
     "metadata": {},
     "output_type": "execute_result"
    }
   ],
   "source": [
    "df_proposicoes_tema.groupby('tema')['idProposicao'].nunique()"
   ]
  },
  {
   "cell_type": "code",
   "execution_count": 75,
   "id": "934a4a23-7ba2-4ade-9492-419fac225e1e",
   "metadata": {},
   "outputs": [
    {
     "data": {
      "text/plain": [
       "siglaTipo\n",
       "ADD         1\n",
       "APM         6\n",
       "ATA         2\n",
       "ATACN     195\n",
       "CAE        14\n",
       "         ... \n",
       "SLD       658\n",
       "SOR      1224\n",
       "SPP        35\n",
       "SSP         4\n",
       "VTS       593\n",
       "Length: 80, dtype: int64"
      ]
     },
     "execution_count": 75,
     "metadata": {},
     "output_type": "execute_result"
    }
   ],
   "source": [
    "df_proposicoes_com_sexo.groupby('siglaTipo', dropna=False).size()"
   ]
  },
  {
   "cell_type": "code",
   "execution_count": 76,
   "id": "41ec7fe0-f558-44a9-90f9-c520be7f84de",
   "metadata": {},
   "outputs": [
    {
     "data": {
      "text/plain": [
       "sexo\n",
       "F     33978\n",
       "M    110739\n",
       "Name: idProposicao, dtype: int64"
      ]
     },
     "execution_count": 76,
     "metadata": {},
     "output_type": "execute_result"
    }
   ],
   "source": [
    "df_proposicoes_com_sexo.groupby('sexo', dropna=False)['idProposicao'].nunique()"
   ]
  },
  {
   "cell_type": "code",
   "execution_count": 77,
   "id": "5eb36cd2-7b02-43cc-8c2d-3c77faee3d89",
   "metadata": {},
   "outputs": [
    {
     "name": "stdout",
     "output_type": "stream",
     "text": [
      "sexo     F      M\n",
      "ano              \n",
      "2019  4230  17776\n",
      "2020  3701  12686\n",
      "2021  5070  17671\n",
      "2022  2690  11167\n",
      "2023  8901  27332\n",
      "2024  9386  24107\n"
     ]
    }
   ],
   "source": [
    "tabela_contagem = df_proposicoes_com_sexo.pivot_table(index='ano', columns='sexo', values='idProposicao', aggfunc='nunique')\n",
    "print(tabela_contagem)"
   ]
  },
  {
   "cell_type": "code",
   "execution_count": 78,
   "id": "dd830600-2b48-4178-b63a-45df5b5db6dc",
   "metadata": {},
   "outputs": [
    {
     "data": {
      "text/html": [
       "<style type=\"text/css\">\n",
       "#T_62b65_row0_col0, #T_62b65_row0_col1, #T_62b65_row1_col0, #T_62b65_row1_col1, #T_62b65_row2_col0, #T_62b65_row2_col1, #T_62b65_row3_col0, #T_62b65_row3_col1, #T_62b65_row4_col0, #T_62b65_row4_col1, #T_62b65_row5_col0, #T_62b65_row5_col1 {\n",
       "  text-align: center;\n",
       "}\n",
       "</style>\n",
       "<table id=\"T_62b65\">\n",
       "  <caption>Proposições Únicas por Ano e Gênero (Absoluto e %)</caption>\n",
       "  <thead>\n",
       "    <tr>\n",
       "      <th class=\"index_name level0\" >sexo</th>\n",
       "      <th id=\"T_62b65_level0_col0\" class=\"col_heading level0 col0\" >F</th>\n",
       "      <th id=\"T_62b65_level0_col1\" class=\"col_heading level0 col1\" >M</th>\n",
       "    </tr>\n",
       "    <tr>\n",
       "      <th class=\"index_name level0\" >ano</th>\n",
       "      <th class=\"blank col0\" >&nbsp;</th>\n",
       "      <th class=\"blank col1\" >&nbsp;</th>\n",
       "    </tr>\n",
       "  </thead>\n",
       "  <tbody>\n",
       "    <tr>\n",
       "      <th id=\"T_62b65_level0_row0\" class=\"row_heading level0 row0\" >2019</th>\n",
       "      <td id=\"T_62b65_row0_col0\" class=\"data row0 col0\" >4230 (19.22%)</td>\n",
       "      <td id=\"T_62b65_row0_col1\" class=\"data row0 col1\" >17776 (80.78%)</td>\n",
       "    </tr>\n",
       "    <tr>\n",
       "      <th id=\"T_62b65_level0_row1\" class=\"row_heading level0 row1\" >2020</th>\n",
       "      <td id=\"T_62b65_row1_col0\" class=\"data row1 col0\" >3701 (22.58%)</td>\n",
       "      <td id=\"T_62b65_row1_col1\" class=\"data row1 col1\" >12686 (77.42%)</td>\n",
       "    </tr>\n",
       "    <tr>\n",
       "      <th id=\"T_62b65_level0_row2\" class=\"row_heading level0 row2\" >2021</th>\n",
       "      <td id=\"T_62b65_row2_col0\" class=\"data row2 col0\" >5070 (22.29%)</td>\n",
       "      <td id=\"T_62b65_row2_col1\" class=\"data row2 col1\" >17671 (77.71%)</td>\n",
       "    </tr>\n",
       "    <tr>\n",
       "      <th id=\"T_62b65_level0_row3\" class=\"row_heading level0 row3\" >2022</th>\n",
       "      <td id=\"T_62b65_row3_col0\" class=\"data row3 col0\" >2690 (19.41%)</td>\n",
       "      <td id=\"T_62b65_row3_col1\" class=\"data row3 col1\" >11167 (80.59%)</td>\n",
       "    </tr>\n",
       "    <tr>\n",
       "      <th id=\"T_62b65_level0_row4\" class=\"row_heading level0 row4\" >2023</th>\n",
       "      <td id=\"T_62b65_row4_col0\" class=\"data row4 col0\" >8901 (24.57%)</td>\n",
       "      <td id=\"T_62b65_row4_col1\" class=\"data row4 col1\" >27332 (75.43%)</td>\n",
       "    </tr>\n",
       "    <tr>\n",
       "      <th id=\"T_62b65_level0_row5\" class=\"row_heading level0 row5\" >2024</th>\n",
       "      <td id=\"T_62b65_row5_col0\" class=\"data row5 col0\" >9386 (28.02%)</td>\n",
       "      <td id=\"T_62b65_row5_col1\" class=\"data row5 col1\" >24107 (71.98%)</td>\n",
       "    </tr>\n",
       "  </tbody>\n",
       "</table>\n"
      ],
      "text/plain": [
       "<pandas.io.formats.style.Styler at 0x1a3c402faa0>"
      ]
     },
     "execution_count": 78,
     "metadata": {},
     "output_type": "execute_result"
    }
   ],
   "source": [
    "# Cria a tabela de contagem absoluta de idProposicao únicos\n",
    "tabela_absoluta = df_proposicoes_com_sexo.pivot_table(\n",
    "    index='ano', \n",
    "    columns='sexo', \n",
    "    values='idProposicao', \n",
    "    aggfunc='nunique', \n",
    "    fill_value=0\n",
    ")\n",
    "\n",
    "# Calcula os percentuais\n",
    "tabela_percentual = (tabela_absoluta.div(tabela_absoluta.sum(axis=1), axis=0) * 100).round(2)\n",
    "\n",
    "# Combina os dois DataFrames (absoluto e percentual)\n",
    "tabela_completa = tabela_absoluta.astype(str) + \" (\" + tabela_percentual.astype(str) + \"%)\"\n",
    "\n",
    "# Exibe a tabela formatada\n",
    "tabela_completa.style.set_caption(\"Proposições Únicas por Ano e Gênero (Absoluto e %)\").set_properties(**{'text-align': 'center'})"
   ]
  },
  {
   "cell_type": "code",
   "execution_count": 79,
   "id": "db59bb42-ab39-4044-9edd-fe8f7841ba0f",
   "metadata": {},
   "outputs": [
    {
     "name": "stdout",
     "output_type": "stream",
     "text": [
      "   parlamentar.siglaPartido  legislatura        parlamentar.nome sexo\n",
      "0                     UNIÃO           56             José Rocha     M\n",
      "1                       PSB           56          Tadeu Alencar     M\n",
      "2                     PCdoB           56          Orlando Silva     M\n",
      "3                       PSC           56    Gilberto Nascimento     M\n",
      "4                        PT           56          Paulo Pimenta     M\n",
      "5                     UNIÃO           56  Pedro Lucas Fernandes     M\n",
      "6                       PSD           56         André de Paula     M\n",
      "7              REPUBLICANOS           56      Jhonatan de Jesus     M\n",
      "8                      PSDB           56         Carlos Sampaio     M\n",
      "9                 CIDADANIA           56          Daniel Coelho     M\n",
      "10                       PP           56             José Nelto     M\n",
      "11                      MDB           56           Baleia Rossi     M\n",
      "12                   AVANTE           56              Luis Tibé     M\n",
      "13                     REDE           56       Joenia Wapichana     F\n",
      "14                      MDB           56        Uldurico Junior     M\n",
      "15                      PDT           57        André Figueiredo    M\n",
      "16                      MDB           57            Baleia Rossi    M\n",
      "17                       PT           57         Gleisi Hoffmann    F\n",
      "18                   AVANTE           57               Luis Tibé    M\n",
      "19             REPUBLICANOS           57          Marcos Pereira    M\n",
      "20                     PODE           57            Renata Abreu    F\n",
      "21                       PT           57          José Guimarães    M\n",
      "22                     PODE           57            Fábio Macedo    M\n",
      "23             REPUBLICANOS           57              Hugo Motta    M\n",
      "24                      PRD           57              Fred Costa    M\n",
      "25                      PSD           57           Antonio Brito    M\n",
      "26                       PP           57            André Fufuca    M\n",
      "27                      PSB           57         Felipe Carreras    M\n",
      "28                   AVANTE           57               Luis Tibé    M\n",
      "29                     PSDB           57            Adolfo Viana    M\n"
     ]
    }
   ],
   "source": [
    "print(df_lideres_leg[['parlamentar.siglaPartido', 'legislatura', 'parlamentar.nome', 'sexo']])"
   ]
  },
  {
   "cell_type": "code",
   "execution_count": 80,
   "id": "f60ba686-fc5a-4d6f-9a09-3f55d83e1227",
   "metadata": {},
   "outputs": [
    {
     "data": {
      "text/plain": [
       "sexo\n",
       "F     3\n",
       "M    27\n",
       "dtype: int64"
      ]
     },
     "execution_count": 80,
     "metadata": {},
     "output_type": "execute_result"
    }
   ],
   "source": [
    "df_lideres_leg.groupby('sexo', dropna=False).size()"
   ]
  },
  {
   "cell_type": "code",
   "execution_count": 81,
   "id": "d8a25a0e-9ac3-41da-902e-6454780749d3",
   "metadata": {},
   "outputs": [
    {
     "data": {
      "text/plain": [
       "parlamentar.siglaPartido\n",
       "AVANTE          3\n",
       "CIDADANIA       1\n",
       "MDB             3\n",
       "PCdoB           1\n",
       "PDT             1\n",
       "PODE            2\n",
       "PP              2\n",
       "PRD             1\n",
       "PSB             2\n",
       "PSC             1\n",
       "PSD             2\n",
       "PSDB            2\n",
       "PT              3\n",
       "REDE            1\n",
       "REPUBLICANOS    3\n",
       "UNIÃO           2\n",
       "Name: legislatura, dtype: int64"
      ]
     },
     "execution_count": 81,
     "metadata": {},
     "output_type": "execute_result"
    }
   ],
   "source": [
    "df_lideres_leg.groupby('parlamentar.siglaPartido')['legislatura'].count()"
   ]
  },
  {
   "cell_type": "code",
   "execution_count": 82,
   "id": "08c2a184-4eeb-4ebd-9c2c-f85ca50dbb44",
   "metadata": {},
   "outputs": [
    {
     "data": {
      "text/plain": [
       "idLegislatura\n",
       "56    1\n",
       "57    1\n",
       "Name: idLegislatura, dtype: int64"
      ]
     },
     "execution_count": 82,
     "metadata": {},
     "output_type": "execute_result"
    }
   ],
   "source": [
    "# Verificando se a tabela de Deputadas possui apenas duas legislaturas\n",
    "\n",
    "df_deputadas_completo.groupby('idLegislatura')['idLegislatura'].nunique(dropna=False)"
   ]
  },
  {
   "cell_type": "code",
   "execution_count": 83,
   "id": "8d5c0abc-854c-4422-a59f-e7c96b9e69d6",
   "metadata": {},
   "outputs": [
    {
     "data": {
      "text/plain": [
       "31"
      ]
     },
     "execution_count": 83,
     "metadata": {},
     "output_type": "execute_result"
    }
   ],
   "source": [
    "# Verificando as siglas dos Partidos que são únicas na tabela de Deputadas\n",
    "\n",
    "df_deputadas_completo['siglaPartido'].nunique()"
   ]
  },
  {
   "cell_type": "code",
   "execution_count": 84,
   "id": "92961981-28e6-42cc-80b7-1e19c625f6ec",
   "metadata": {},
   "outputs": [
    {
     "data": {
      "text/plain": [
       "sexo\n",
       "F    103\n",
       "M    449\n",
       "Name: id, dtype: int64"
      ]
     },
     "execution_count": 84,
     "metadata": {},
     "output_type": "execute_result"
    }
   ],
   "source": [
    "# Agrupando os registros pelo campo sexo, com base na contagem única de ids da tabela de Deputadas\n",
    "\n",
    "df_deputadas_completo.groupby('sexo', dropna=False)['id'].nunique(dropna=False)"
   ]
  },
  {
   "cell_type": "code",
   "execution_count": 85,
   "id": "694b5a4c-e581-4732-81b3-6bbd438d5956",
   "metadata": {},
   "outputs": [
    {
     "data": {
      "text/plain": [
       "idLegislatura\n",
       "56    378\n",
       "57    384\n",
       "Name: id, dtype: int64"
      ]
     },
     "execution_count": 85,
     "metadata": {},
     "output_type": "execute_result"
    }
   ],
   "source": [
    "df_deputadas_completo.groupby('idLegislatura')['id'].nunique()"
   ]
  },
  {
   "cell_type": "code",
   "execution_count": 86,
   "id": "6388f8e2-8684-4553-86c7-f371b1aba15d",
   "metadata": {},
   "outputs": [],
   "source": [
    "# Cria uma tabela de id_deputado com os anos em que apareceram\n",
    "tabela_legislaturas = df_deputadas_completo.groupby('id')['idLegislatura'].nunique().reset_index()\n",
    "\n",
    "# Deputadas que aparecem em dois anos => reeleitas\n",
    "tabela_legislaturas['reeleita'] = tabela_legislaturas['idLegislatura'] > 1\n"
   ]
  },
  {
   "cell_type": "code",
   "execution_count": 87,
   "id": "c89bf2cd-87ec-4062-84bd-a05cb475345a",
   "metadata": {},
   "outputs": [],
   "source": [
    "# Junta com o DataFrame original\n",
    "df_deputadas_completo = df_deputadas_completo.merge(tabela_legislaturas[['id', 'reeleita']], on='id', how='left')\n"
   ]
  },
  {
   "cell_type": "code",
   "execution_count": 88,
   "id": "b6a01b0e-adf6-427b-8b30-71ac4dd3c2af",
   "metadata": {},
   "outputs": [
    {
     "name": "stdout",
     "output_type": "stream",
     "text": [
      "Deputadas reeleitas: 210\n"
     ]
    }
   ],
   "source": [
    "deputadas_reeleitas = df_deputadas_completo[df_deputadas_completo['reeleita']].drop_duplicates('id')\n",
    "print(f\"Deputadas reeleitas: {len(deputadas_reeleitas)}\")\n"
   ]
  },
  {
   "cell_type": "code",
   "execution_count": 89,
   "id": "d24c0ea0-7402-431f-ba5d-d0821c494fe2",
   "metadata": {},
   "outputs": [
    {
     "name": "stdout",
     "output_type": "stream",
     "text": [
      "Deputadas novatas em 2023: 174\n"
     ]
    }
   ],
   "source": [
    "novatas_2023 = df_deputadas_completo[(df_deputadas_completo['idLegislatura'] == 57) & (~df_deputadas_completo['reeleita'])]\n",
    "novatas_2023 = novatas_2023.drop_duplicates('id')\n",
    "print(f\"Deputadas novatas em 2023: {len(novatas_2023)}\")"
   ]
  },
  {
   "cell_type": "code",
   "execution_count": 90,
   "id": "6ff3092a-9f71-4753-b096-dc6f02166a49",
   "metadata": {},
   "outputs": [
    {
     "name": "stdout",
     "output_type": "stream",
     "text": [
      "Percentual de reeleição entre deputadas de 2019: 55.56%\n"
     ]
    }
   ],
   "source": [
    "total_2019 = df_deputadas_completo[df_deputadas_completo['idLegislatura'] == 56]['id'].nunique()\n",
    "reeleitas = deputadas_reeleitas['id'].nunique()\n",
    "percentual_reeleicao = (reeleitas / total_2019) * 100\n",
    "print(f\"Percentual de reeleição entre deputadas de 2019: {percentual_reeleicao:.2f}%\")\n"
   ]
  },
  {
   "cell_type": "code",
   "execution_count": 91,
   "id": "1d20e75c-5dff-4d71-9e8f-e875644a9f43",
   "metadata": {},
   "outputs": [],
   "source": [
    "def contar_deputadas(df, legislatura=None, tipo='total'):\n",
    "    \"\"\"\n",
    "    Conta deputadas eleitas, com opção de contagem total (mandatos) ou distinta (únicas).\n",
    "    \n",
    "    Parâmetros:\n",
    "    - df: DataFrame com as deputadas\n",
    "    - legislatura: int ou lista (ex: 56 ou [56, 57])\n",
    "    - tipo: 'total' para contar mandatos, 'distinta' para contar deputadas únicas\n",
    "    \n",
    "    Retorna: inteiro com o número de deputadas\n",
    "    \"\"\"\n",
    "    df_fem = df[df['sexo'] == 'F']\n",
    "    \n",
    "    if legislatura:\n",
    "        if isinstance(legislatura, int):\n",
    "            df_fem = df_fem[df_fem['idLegislatura'] == legislatura]\n",
    "        elif isinstance(legislatura, list):\n",
    "            df_fem = df_fem[df_fem['idLegislatura'].isin(legislatura)]\n",
    "\n",
    "    if tipo == 'total':\n",
    "        return len(df_fem)\n",
    "    elif tipo == 'distinta':\n",
    "        return df_fem['id'].nunique()\n",
    "    else:\n",
    "        raise ValueError(\"Tipo inválido: use 'total' ou 'distinta'\")\n"
   ]
  },
  {
   "cell_type": "code",
   "execution_count": 92,
   "id": "34a7d043-5519-4c23-a999-a46ffae3f452",
   "metadata": {},
   "outputs": [
    {
     "name": "stdout",
     "output_type": "stream",
     "text": [
      "🔍 Exemplos com df_deputadas_completo\n",
      "\n",
      "Total de mandatos femininos em 2019: 91\n",
      "Total de mandatos femininos em 2023: 76\n",
      "Total de mandatos femininos entre 2019 e 2023: 167\n",
      "Total de deputadas únicas em 2019: 56\n",
      "Total de deputadas únicas em 2023: 74\n",
      "Total de deputadas únicas entre 2019 e 2023: 103\n"
     ]
    }
   ],
   "source": [
    "print(\"🔍 Exemplos com df_deputadas_completo\\n\")\n",
    "\n",
    "# Total de mandatos femininos em 2019 (legislatura 56)\n",
    "total_2019 = contar_deputadas(df_deputadas_completo, 56, tipo='total')\n",
    "print(f\"Total de mandatos femininos em 2019: {total_2019}\")\n",
    "\n",
    "# Total de mandatos femininos em 2023 (legislatura 57)\n",
    "total_2023 = contar_deputadas(df_deputadas_completo, 57, tipo='total')\n",
    "print(f\"Total de mandatos femininos em 2023: {total_2023}\")\n",
    "\n",
    "# Total de mandatos (mesmo nome conta duas vezes) entre 2019 e 2023\n",
    "total_ambos = contar_deputadas(df_deputadas_completo, [56, 57], tipo='total')\n",
    "print(f\"Total de mandatos femininos entre 2019 e 2023: {total_ambos}\")\n",
    "\n",
    "# Total de deputadas únicas em 2019\n",
    "distintas_2019 = contar_deputadas(df_deputadas_completo, 56, tipo='distinta')\n",
    "print(f\"Total de deputadas únicas em 2019: {distintas_2019}\")\n",
    "\n",
    "# Total de deputadas únicas em 2023\n",
    "distintas_2023 = contar_deputadas(df_deputadas_completo, 57, tipo='distinta')\n",
    "print(f\"Total de deputadas únicas em 2023: {distintas_2023}\")\n",
    "\n",
    "# Total de deputadas únicas entre 2019 e 2023\n",
    "distintas_ambos = contar_deputadas(df_deputadas_completo, [56, 57], tipo='distinta')\n",
    "print(f\"Total de deputadas únicas entre 2019 e 2023: {distintas_ambos}\")"
   ]
  },
  {
   "cell_type": "code",
   "execution_count": 93,
   "id": "1ba1dfda-c4e5-415f-a04f-9021a29fda07",
   "metadata": {},
   "outputs": [],
   "source": [
    "def gerar_calendario_legislaturas(df):\n",
    "    \"\"\"Gera calendário de datas únicas por legislatura\"\"\"\n",
    "    start_time = time.time()\n",
    "    print(\"Baixando calendário...\")\n",
    "\n",
    "    # Lista de DataFrames: um para cada legislatura\n",
    "    df_calendario_list = [\n",
    "        pd.DataFrame({\n",
    "            'data': pd.date_range(start=row['inicioLegislatura'], end=row['fimLegislatura']),\n",
    "            'idLegislatura': row['idLegislatura']\n",
    "        })\n",
    "        for _, row in df.iterrows()\n",
    "    ]\n",
    "\n",
    "    # Concatenar e remover duplicatas no par (data, idLegislatura)\n",
    "    df_calendario = (\n",
    "        pd.concat(df_calendario_list, ignore_index=True)\n",
    "          .drop_duplicates(subset=['data', 'idLegislatura'])\n",
    "    )\n",
    "\n",
    "    # Formatar a coluna data\n",
    "    df_calendario['data'] = df_calendario['data'].dt.strftime('%d/%m/%Y')\n",
    "\n",
    "    elapsed = time.time() - start_time\n",
    "    print(f\"Tempo total de execução: {elapsed:.2f} segundos\")\n",
    "\n",
    "    return df_calendario"
   ]
  },
  {
   "cell_type": "code",
   "execution_count": 94,
   "id": "c84b688e-1cb8-4695-b9bb-1b6bb765f868",
   "metadata": {},
   "outputs": [],
   "source": [
    "# Chamada da função e download da tabela\n",
    "# df_calendario = gerar_calendario_legislaturas(df_deputadas_completo)\n",
    "# df_calendario.to_csv(\"calendario.csv\", index=False)"
   ]
  },
  {
   "cell_type": "code",
   "execution_count": 95,
   "id": "1148699a-ebc2-46b8-99ee-b8d9e9bc9d07",
   "metadata": {},
   "outputs": [
    {
     "data": {
      "text/html": [
       "<div>\n",
       "<style scoped>\n",
       "    .dataframe tbody tr th:only-of-type {\n",
       "        vertical-align: middle;\n",
       "    }\n",
       "\n",
       "    .dataframe tbody tr th {\n",
       "        vertical-align: top;\n",
       "    }\n",
       "\n",
       "    .dataframe thead th {\n",
       "        text-align: right;\n",
       "    }\n",
       "</style>\n",
       "<table border=\"1\" class=\"dataframe\">\n",
       "  <thead>\n",
       "    <tr style=\"text-align: right;\">\n",
       "      <th></th>\n",
       "      <th>id_proposicao</th>\n",
       "      <th>id_deputada_legislatura</th>\n",
       "    </tr>\n",
       "  </thead>\n",
       "  <tbody>\n",
       "    <tr>\n",
       "      <th>0</th>\n",
       "      <td>2199501</td>\n",
       "      <td>204554-56</td>\n",
       "    </tr>\n",
       "    <tr>\n",
       "      <th>2</th>\n",
       "      <td>2199624</td>\n",
       "      <td>204554-56</td>\n",
       "    </tr>\n",
       "    <tr>\n",
       "      <th>4</th>\n",
       "      <td>2199625</td>\n",
       "      <td>204554-56</td>\n",
       "    </tr>\n",
       "    <tr>\n",
       "      <th>6</th>\n",
       "      <td>2199779</td>\n",
       "      <td>204554-56</td>\n",
       "    </tr>\n",
       "    <tr>\n",
       "      <th>8</th>\n",
       "      <td>2200893</td>\n",
       "      <td>204554-56</td>\n",
       "    </tr>\n",
       "  </tbody>\n",
       "</table>\n",
       "</div>"
      ],
      "text/plain": [
       "   id_proposicao id_deputada_legislatura\n",
       "0        2199501               204554-56\n",
       "2        2199624               204554-56\n",
       "4        2199625               204554-56\n",
       "6        2199779               204554-56\n",
       "8        2200893               204554-56"
      ]
     },
     "execution_count": 95,
     "metadata": {},
     "output_type": "execute_result"
    }
   ],
   "source": [
    "# Etapa 1: Unir proposições com os detalhes para obter a data de apresentação\n",
    "# a. Renomear colunas para snake_case\n",
    "df_proposicoes_completo = df_proposicoes_completo.rename(columns={\n",
    "    'idProposicao': 'id_proposicao',\n",
    "    'idDeputadoAutor' : 'id_deputado_autor'\n",
    "})\n",
    "\n",
    "df_proposicoes_detalhes = df_proposicoes_detalhes.rename(columns={\n",
    "    'id': 'id_proposicao',\n",
    "    'dataApresentacao': 'data_apresentacao'\n",
    "})\n",
    "\n",
    "# b. Fazer o merge usando as colunas já em snake_case\n",
    "df_proposicoes_full = df_proposicoes_completo.merge(\n",
    "    df_proposicoes_detalhes[['id_proposicao', 'data_apresentacao']],\n",
    "    on='id_proposicao',\n",
    "    how='inner'\n",
    ")\n",
    "\n",
    "# Etapa 2: Preparar tabela de legislaturas com início e fim\n",
    "df_legislaturas = df_deputadas_completo[[\n",
    "    'id', 'idLegislatura', 'inicioLegislatura', 'fimLegislatura'\n",
    "]].copy()\n",
    "\n",
    "df_legislaturas.rename(columns={\n",
    "    'id': 'id_deputada',\n",
    "    'idLegislatura': 'id_legislatura',\n",
    "    'inicioLegislatura': 'inicio',\n",
    "    'fimLegislatura': 'fim'\n",
    "}, inplace=True)\n",
    "\n",
    "# Garantir que datas estão em formato datetime\n",
    "df_legislaturas['inicio'] = pd.to_datetime(df_legislaturas['inicio'], dayfirst=True, errors='coerce')\n",
    "df_legislaturas['fim'] = pd.to_datetime(df_legislaturas['fim'], dayfirst=True, errors='coerce')\n",
    "df_proposicoes_full['data_apresentacao'] = pd.to_datetime(df_proposicoes_full['data_apresentacao'], errors='coerce')\n",
    "\n",
    "# Etapa 3: Merge pelo autor com faixa de datas\n",
    "df_merged = df_proposicoes_full.merge(\n",
    "    df_legislaturas,\n",
    "    left_on='id_deputado_autor',\n",
    "    right_on='id_deputada',\n",
    "    how='left'\n",
    ")\n",
    "\n",
    "# Etapa 4: Filtrar registros onde a proposição foi apresentada dentro do mandato\n",
    "df_validos = df_merged[\n",
    "    (df_merged['data_apresentacao'] >= df_merged['inicio']) &\n",
    "    (df_merged['data_apresentacao'] <= df_merged['fim'])\n",
    "].copy()\n",
    "\n",
    "# Etapa 5: Criar a chave composta id_deputada_legislatura\n",
    "df_validos['id_deputada_legislatura'] = (\n",
    "    df_validos['id_deputado_autor'].astype(str) + \"-\" + df_validos['id_legislatura'].astype(str)\n",
    ")\n",
    "\n",
    "# Etapa 6: Gerar resultado final\n",
    "df_proposicoes_autores = df_validos[['id_proposicao', 'id_deputada_legislatura']].drop_duplicates()\n",
    "\n",
    "# Visualizar resultado\n",
    "df_proposicoes_autores.head()"
   ]
  },
  {
   "cell_type": "code",
   "execution_count": 96,
   "id": "d3784c21-98a6-43a1-8f9f-a0493726210c",
   "metadata": {},
   "outputs": [
    {
     "data": {
      "text/plain": [
       "Index(['titulo', 'dataInicio', 'dataFim', 'parlamentar.id', 'parlamentar.uri',\n",
       "       'parlamentar.nome', 'parlamentar.siglaPartido',\n",
       "       'parlamentar.uriPartido', 'parlamentar.siglaUf', 'parlamentar.urlFoto',\n",
       "       'bancada.tipo', 'bancada.nome', 'legislatura', 'sexo'],\n",
       "      dtype='object')"
      ]
     },
     "execution_count": 96,
     "metadata": {},
     "output_type": "execute_result"
    }
   ],
   "source": [
    "df_lideres_leg.columns"
   ]
  },
  {
   "cell_type": "code",
   "execution_count": 97,
   "id": "75e0a45a-800a-4522-b041-79e5c4e86651",
   "metadata": {},
   "outputs": [
    {
     "name": "stdout",
     "output_type": "stream",
     "text": [
      "Tempo total de execução: 4.16 segundos\n"
     ]
    }
   ],
   "source": [
    "df_lideres_leg = df_lideres_leg.rename(columns={'parlamentar.id': 'id'})\n",
    "df_lideres = obter_detalhes_deputadas(df_lideres_leg)"
   ]
  },
  {
   "cell_type": "code",
   "execution_count": 98,
   "id": "150e6345-2f45-464e-9551-5abcc2b3a8d2",
   "metadata": {},
   "outputs": [
    {
     "data": {
      "text/plain": [
       "id                                 0\n",
       "uri                                0\n",
       "nomeCivil                          0\n",
       "cpf                                0\n",
       "sexo                               0\n",
       "urlWebsite                        30\n",
       "redeSocial                         0\n",
       "dataNascimento                     0\n",
       "dataFalecimento                   30\n",
       "ufNascimento                       0\n",
       "municipioNascimento                0\n",
       "escolaridade                       0\n",
       "ultimoStatus.id                    0\n",
       "ultimoStatus.uri                   0\n",
       "ultimoStatus.nome                  0\n",
       "ultimoStatus.siglaPartido          0\n",
       "ultimoStatus.uriPartido           30\n",
       "ultimoStatus.siglaUf               0\n",
       "ultimoStatus.idLegislatura         0\n",
       "ultimoStatus.urlFoto               0\n",
       "ultimoStatus.email                30\n",
       "ultimoStatus.data                  0\n",
       "ultimoStatus.nomeEleitoral         0\n",
       "ultimoStatus.gabinete.nome         8\n",
       "ultimoStatus.gabinete.predio       8\n",
       "ultimoStatus.gabinete.sala         8\n",
       "ultimoStatus.gabinete.andar        9\n",
       "ultimoStatus.gabinete.telefone     8\n",
       "ultimoStatus.gabinete.email        8\n",
       "ultimoStatus.situacao              0\n",
       "ultimoStatus.condicaoEleitoral     0\n",
       "ultimoStatus.descricaoStatus      20\n",
       "dtype: int64"
      ]
     },
     "execution_count": 98,
     "metadata": {},
     "output_type": "execute_result"
    }
   ],
   "source": [
    "df_lideres.isnull().sum()"
   ]
  },
  {
   "cell_type": "code",
   "execution_count": 99,
   "id": "b8346400-ed77-4195-b277-c50326f7dfd9",
   "metadata": {},
   "outputs": [
    {
     "name": "stderr",
     "output_type": "stream",
     "text": [
      "C:\\Users\\caren\\AppData\\Local\\Temp\\ipykernel_24836\\531666320.py:2: UserWarning: Parsing dates in %Y-%m-%d format when dayfirst=True was specified. Pass `dayfirst=False` or specify a format to silence this warning.\n",
      "  df_lideres.loc[:, 'ano_nascimento'] = pd.to_datetime(df_lideres['dataNascimento'], dayfirst=True).dt.year\n"
     ]
    }
   ],
   "source": [
    "df_lideres['falecida'] = df_lideres['dataFalecimento'].notna()\n",
    "df_lideres.loc[:, 'ano_nascimento'] = pd.to_datetime(df_lideres['dataNascimento'], dayfirst=True).dt.year\n",
    "df_lideres.loc[:, 'idade'] = datetime.now().year - df_lideres['ano_nascimento']\n",
    "df_lideres.loc[:, 'geração'] = df_lideres['ano_nascimento'].apply(determinar_geracao)\n",
    "df_lideres.drop(columns=['uri', 'cpf', 'urlWebsite', 'redeSocial', 'ultimoStatus.uriPartido', 'dataFalecimento', 'ultimoStatus.idLegislatura',\n",
    "                                    'ultimoStatus.id', 'ultimoStatus.uri', 'ultimoStatus.gabinete.nome',\n",
    "                                    'ultimoStatus.urlFoto', 'ultimoStatus.email', 'ultimoStatus.data', 'ultimoStatus.nomeEleitoral',\n",
    "                                    'ultimoStatus.gabinete.predio', 'ultimoStatus.gabinete.sala', 'ultimoStatus.gabinete.andar',\n",
    "                                    'ultimoStatus.gabinete.telefone', 'ultimoStatus.gabinete.email', 'ultimoStatus.descricaoStatus', \n",
    "                                    'ultimoStatus.gabinete.nome', 'ultimoStatus.situacao', 'ultimoStatus.condicaoEleitoral'], inplace=True)"
   ]
  },
  {
   "cell_type": "code",
   "execution_count": 100,
   "id": "dbd87681-7b62-4f3f-bb83-46ec4c36a339",
   "metadata": {},
   "outputs": [
    {
     "data": {
      "text/plain": [
       "id                           0\n",
       "nomeCivil                    0\n",
       "sexo                         0\n",
       "dataNascimento               0\n",
       "ufNascimento                 0\n",
       "municipioNascimento          0\n",
       "escolaridade                 0\n",
       "ultimoStatus.nome            0\n",
       "ultimoStatus.siglaPartido    0\n",
       "ultimoStatus.siglaUf         0\n",
       "falecida                     0\n",
       "ano_nascimento               0\n",
       "idade                        0\n",
       "geração                      0\n",
       "dtype: int64"
      ]
     },
     "execution_count": 100,
     "metadata": {},
     "output_type": "execute_result"
    }
   ],
   "source": [
    "df_lideres.isnull().sum()"
   ]
  },
  {
   "cell_type": "code",
   "execution_count": 102,
   "id": "ce04081c-6355-4f0c-94cb-080725d141e5",
   "metadata": {},
   "outputs": [],
   "source": [
    "# df_lideres.to_csv('dim_liderancas.csv', index=False)"
   ]
  },
  {
   "cell_type": "code",
   "execution_count": null,
   "id": "d9a72fb6-bfcb-4691-90ac-46bdcf1f573f",
   "metadata": {},
   "outputs": [],
   "source": []
  }
 ],
 "metadata": {
  "kernelspec": {
   "display_name": "Python 3 (ipykernel)",
   "language": "python",
   "name": "python3"
  },
  "language_info": {
   "codemirror_mode": {
    "name": "ipython",
    "version": 3
   },
   "file_extension": ".py",
   "mimetype": "text/x-python",
   "name": "python",
   "nbconvert_exporter": "python",
   "pygments_lexer": "ipython3",
   "version": "3.12.7"
  }
 },
 "nbformat": 4,
 "nbformat_minor": 5
}
